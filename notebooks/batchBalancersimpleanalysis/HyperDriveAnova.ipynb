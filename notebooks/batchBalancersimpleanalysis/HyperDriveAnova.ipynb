{
 "cells": [
  {
   "cell_type": "markdown",
   "metadata": {},
   "source": [
    "# ANOVA on network revenue\n",
    "\n",
    "\n",
    "In this notebook we present a simple ANalysis Of VAriance (ANOVA) on the network revenue, as impacted by (i) hyperdrive [FIP-0013](https://github.com/filecoin-project/FIPs/blob/master/FIPS/fip-0013.md) and (ii) the subsequent  upgrade in [FIP-0024](https://github.com/filecoin-project/FIPs/blob/master/FIPS/fip-0024.md). In short, here we perform a simple statistical test to corroborate wether FIP-0013 or FIP-0024 had any effect on network revenue. \n",
    "\n",
    "\n",
    "As it can be seen in the [lotus releases](https://github.com/filecoin-project/lotus/releases), FIP-0013 was intrudced in Lotus v1.10.0, which took place in 23rd of June, 2021, while FIP-0024 was introduced in Lotus v1.12.0 which was released on October 12th, 2021.\n",
    "\n",
    "\n",
    "We begin by loading the required packages and a dataset of daily network revenue. "
   ]
  },
  {
   "cell_type": "code",
   "execution_count": 7,
   "metadata": {},
   "outputs": [],
   "source": [
    "import numpy as np\n",
    "import matplotlib.pyplot as plt\n",
    "import pandas as pd\n",
    "import warnings\n",
    "warnings.filterwarnings('ignore')\n",
    "df=pd.read_csv('gasDaily.csv')\n",
    "#cutoff day for when hyperdrive went live, plus some wiggle room\n",
    "cutoff_13='2021-06-23'\n",
    "cutoff_24='2021-10-12'\n",
    "df_pre=df[df['stat_date']<cutoff_13]\n",
    "df_post=df[df['stat_date']>cutoff_13]\n",
    "\n",
    "df_post_13=df[cutoff_13<df['stat_date']]\n",
    "df_post_13=df_post_13[df_post_13['stat_date']<cutoff_24]            \n",
    "df_post_24=df[df['stat_date']>cutoff_24]\n",
    "\n",
    "\n",
    "df_pre['time']=len(df_pre)*['pre-hyperdrive']\n",
    "df_post_13['time']=len(df_post_13)*['post FIP-0013']\n",
    "df_post_24['time']=len(df_post_24)*['post FIP-0024']\n",
    "df=pd.concat([df_pre,df_post_13,df_post_24])"
   ]
  },
  {
   "cell_type": "code",
   "execution_count": 8,
   "metadata": {},
   "outputs": [
    {
     "name": "stdout",
     "output_type": "stream",
     "text": [
      "We can see that there was a decrease of 87.95 %\n"
     ]
    }
   ],
   "source": [
    "r=df_post['protocol_revenue'].mean()/df_pre['protocol_revenue'].mean()\n",
    "ri=round(100*(1-r),2)\n",
    "print('We can see that there was a decrease of {} %'.format(ri))"
   ]
  },
  {
   "cell_type": "code",
   "execution_count": 9,
   "metadata": {},
   "outputs": [
    {
     "name": "stdout",
     "output_type": "stream",
     "text": [
      "ratio std/mean for pre-hyperdrive 0.70\n",
      "ratio std/mean for post-hyperdrive 0.90\n"
     ]
    }
   ],
   "source": [
    "r1=df_pre['protocol_revenue'].std()/df_pre['protocol_revenue'].mean()\n",
    "r2=df_post['protocol_revenue'].std()/df_post['protocol_revenue'].mean()\n",
    "\n",
    "\n",
    "\n",
    "print('ratio std/mean for pre-hyperdrive {:.2f}'.format(r1))\n",
    "print('ratio std/mean for post-hyperdrive {:.2f}'.format(r2))\n",
    "\n",
    "\n",
    "\n"
   ]
  },
  {
   "cell_type": "markdown",
   "metadata": {},
   "source": [
    "Which means that hyperdrive reduced the intra-day variance of protocol revenue. \n",
    "\n",
    "# Visualisation"
   ]
  },
  {
   "cell_type": "markdown",
   "metadata": {},
   "source": [
    "\n",
    "Let's visualise as a box-and-whiskers plot"
   ]
  },
  {
   "cell_type": "code",
   "execution_count": 10,
   "metadata": {},
   "outputs": [
    {
     "data": {
      "application/vnd.plotly.v1+json": {
       "config": {
        "plotlyServerURL": "https://plot.ly"
       },
       "data": [
        {
         "alignmentgroup": "True",
         "hovertemplate": "time=%{x}<br>protocol_revenue=%{y}<extra></extra>",
         "legendgroup": "pre-hyperdrive",
         "marker": {
          "color": "#636efa"
         },
         "name": "pre-hyperdrive",
         "notched": false,
         "offsetgroup": "pre-hyperdrive",
         "orientation": "v",
         "showlegend": true,
         "type": "box",
         "x": [
          "pre-hyperdrive",
          "pre-hyperdrive",
          "pre-hyperdrive",
          "pre-hyperdrive",
          "pre-hyperdrive",
          "pre-hyperdrive",
          "pre-hyperdrive",
          "pre-hyperdrive",
          "pre-hyperdrive",
          "pre-hyperdrive",
          "pre-hyperdrive",
          "pre-hyperdrive",
          "pre-hyperdrive",
          "pre-hyperdrive",
          "pre-hyperdrive",
          "pre-hyperdrive",
          "pre-hyperdrive",
          "pre-hyperdrive",
          "pre-hyperdrive",
          "pre-hyperdrive",
          "pre-hyperdrive",
          "pre-hyperdrive",
          "pre-hyperdrive",
          "pre-hyperdrive",
          "pre-hyperdrive",
          "pre-hyperdrive",
          "pre-hyperdrive",
          "pre-hyperdrive",
          "pre-hyperdrive",
          "pre-hyperdrive",
          "pre-hyperdrive",
          "pre-hyperdrive",
          "pre-hyperdrive",
          "pre-hyperdrive",
          "pre-hyperdrive",
          "pre-hyperdrive",
          "pre-hyperdrive",
          "pre-hyperdrive",
          "pre-hyperdrive",
          "pre-hyperdrive",
          "pre-hyperdrive",
          "pre-hyperdrive",
          "pre-hyperdrive",
          "pre-hyperdrive",
          "pre-hyperdrive",
          "pre-hyperdrive",
          "pre-hyperdrive",
          "pre-hyperdrive",
          "pre-hyperdrive",
          "pre-hyperdrive",
          "pre-hyperdrive",
          "pre-hyperdrive",
          "pre-hyperdrive",
          "pre-hyperdrive",
          "pre-hyperdrive",
          "pre-hyperdrive",
          "pre-hyperdrive",
          "pre-hyperdrive",
          "pre-hyperdrive",
          "pre-hyperdrive",
          "pre-hyperdrive",
          "pre-hyperdrive",
          "pre-hyperdrive",
          "pre-hyperdrive",
          "pre-hyperdrive",
          "pre-hyperdrive",
          "pre-hyperdrive",
          "pre-hyperdrive",
          "pre-hyperdrive",
          "pre-hyperdrive",
          "pre-hyperdrive",
          "pre-hyperdrive",
          "pre-hyperdrive",
          "pre-hyperdrive",
          "pre-hyperdrive",
          "pre-hyperdrive",
          "pre-hyperdrive",
          "pre-hyperdrive",
          "pre-hyperdrive",
          "pre-hyperdrive",
          "pre-hyperdrive",
          "pre-hyperdrive",
          "pre-hyperdrive",
          "pre-hyperdrive",
          "pre-hyperdrive",
          "pre-hyperdrive",
          "pre-hyperdrive",
          "pre-hyperdrive",
          "pre-hyperdrive",
          "pre-hyperdrive",
          "pre-hyperdrive",
          "pre-hyperdrive",
          "pre-hyperdrive",
          "pre-hyperdrive",
          "pre-hyperdrive",
          "pre-hyperdrive",
          "pre-hyperdrive",
          "pre-hyperdrive",
          "pre-hyperdrive",
          "pre-hyperdrive",
          "pre-hyperdrive",
          "pre-hyperdrive",
          "pre-hyperdrive",
          "pre-hyperdrive",
          "pre-hyperdrive",
          "pre-hyperdrive",
          "pre-hyperdrive",
          "pre-hyperdrive",
          "pre-hyperdrive",
          "pre-hyperdrive",
          "pre-hyperdrive",
          "pre-hyperdrive",
          "pre-hyperdrive",
          "pre-hyperdrive",
          "pre-hyperdrive",
          "pre-hyperdrive",
          "pre-hyperdrive",
          "pre-hyperdrive",
          "pre-hyperdrive",
          "pre-hyperdrive",
          "pre-hyperdrive",
          "pre-hyperdrive",
          "pre-hyperdrive",
          "pre-hyperdrive",
          "pre-hyperdrive",
          "pre-hyperdrive",
          "pre-hyperdrive",
          "pre-hyperdrive",
          "pre-hyperdrive",
          "pre-hyperdrive",
          "pre-hyperdrive",
          "pre-hyperdrive",
          "pre-hyperdrive",
          "pre-hyperdrive",
          "pre-hyperdrive",
          "pre-hyperdrive",
          "pre-hyperdrive",
          "pre-hyperdrive",
          "pre-hyperdrive",
          "pre-hyperdrive",
          "pre-hyperdrive",
          "pre-hyperdrive",
          "pre-hyperdrive",
          "pre-hyperdrive",
          "pre-hyperdrive",
          "pre-hyperdrive",
          "pre-hyperdrive",
          "pre-hyperdrive",
          "pre-hyperdrive",
          "pre-hyperdrive",
          "pre-hyperdrive",
          "pre-hyperdrive",
          "pre-hyperdrive",
          "pre-hyperdrive",
          "pre-hyperdrive",
          "pre-hyperdrive",
          "pre-hyperdrive",
          "pre-hyperdrive",
          "pre-hyperdrive",
          "pre-hyperdrive",
          "pre-hyperdrive",
          "pre-hyperdrive",
          "pre-hyperdrive",
          "pre-hyperdrive",
          "pre-hyperdrive",
          "pre-hyperdrive",
          "pre-hyperdrive",
          "pre-hyperdrive",
          "pre-hyperdrive",
          "pre-hyperdrive",
          "pre-hyperdrive",
          "pre-hyperdrive",
          "pre-hyperdrive",
          "pre-hyperdrive",
          "pre-hyperdrive",
          "pre-hyperdrive",
          "pre-hyperdrive",
          "pre-hyperdrive",
          "pre-hyperdrive",
          "pre-hyperdrive",
          "pre-hyperdrive",
          "pre-hyperdrive",
          "pre-hyperdrive",
          "pre-hyperdrive",
          "pre-hyperdrive",
          "pre-hyperdrive",
          "pre-hyperdrive",
          "pre-hyperdrive",
          "pre-hyperdrive",
          "pre-hyperdrive",
          "pre-hyperdrive",
          "pre-hyperdrive",
          "pre-hyperdrive",
          "pre-hyperdrive",
          "pre-hyperdrive",
          "pre-hyperdrive",
          "pre-hyperdrive",
          "pre-hyperdrive",
          "pre-hyperdrive",
          "pre-hyperdrive",
          "pre-hyperdrive",
          "pre-hyperdrive",
          "pre-hyperdrive",
          "pre-hyperdrive",
          "pre-hyperdrive",
          "pre-hyperdrive",
          "pre-hyperdrive",
          "pre-hyperdrive",
          "pre-hyperdrive",
          "pre-hyperdrive",
          "pre-hyperdrive",
          "pre-hyperdrive",
          "pre-hyperdrive",
          "pre-hyperdrive",
          "pre-hyperdrive",
          "pre-hyperdrive",
          "pre-hyperdrive",
          "pre-hyperdrive",
          "pre-hyperdrive",
          "pre-hyperdrive",
          "pre-hyperdrive",
          "pre-hyperdrive",
          "pre-hyperdrive",
          "pre-hyperdrive",
          "pre-hyperdrive",
          "pre-hyperdrive",
          "pre-hyperdrive",
          "pre-hyperdrive",
          "pre-hyperdrive",
          "pre-hyperdrive",
          "pre-hyperdrive",
          "pre-hyperdrive",
          "pre-hyperdrive",
          "pre-hyperdrive",
          "pre-hyperdrive",
          "pre-hyperdrive",
          "pre-hyperdrive",
          "pre-hyperdrive",
          "pre-hyperdrive",
          "pre-hyperdrive",
          "pre-hyperdrive",
          "pre-hyperdrive",
          "pre-hyperdrive",
          "pre-hyperdrive",
          "pre-hyperdrive",
          "pre-hyperdrive",
          "pre-hyperdrive",
          "pre-hyperdrive",
          "pre-hyperdrive",
          "pre-hyperdrive",
          "pre-hyperdrive"
         ],
         "x0": " ",
         "xaxis": "x",
         "y": [
          34180.20403873452,
          10887.143941730012,
          6388.681321242623,
          6024.592296159231,
          4604.858137448265,
          4667.864072574741,
          4638.197209811512,
          5755.740123400299,
          11045.801728635675,
          4778.718765836868,
          4061.550714955614,
          115786.58325065862,
          15254.431280808514,
          3013.4784461118943,
          10260.779696664977,
          5509.964076512612,
          9605.155528743258,
          3201.1639776076167,
          3449.1537621338443,
          4338.722404089574,
          5400.739975881051,
          8913.711056865479,
          6572.451489743751,
          4187.061065631208,
          4421.409745858617,
          3675.256082988464,
          10885.287953163792,
          20129.12764013261,
          41821.17711717312,
          34402.58175498292,
          55852.49025557429,
          41215.18576412716,
          27152.97795995045,
          65302.72488984488,
          72542.06971727942,
          81447.41217142517,
          80789.64136686253,
          22068.802068897305,
          85386.34531088479,
          25702.41698549449,
          5248.193252133985,
          3929.716501476054,
          8696.566158459867,
          104123.66781156616,
          119960.4187258438,
          43922.83463306801,
          120547.32143229088,
          134244.49656497934,
          156266.08306023557,
          151222.85393527994,
          62786.10107871849,
          149604.64150925635,
          147976.2844166198,
          110799.93297156268,
          168210.8119897202,
          188792.02389595663,
          138108.4674132607,
          210402.69066782645,
          203616.1543306923,
          180457.13148170916,
          189198.7523099185,
          212721.50018804232,
          211359.05951922384,
          187772.58728228413,
          169445.49589964084,
          97010.03321803897,
          52265.60681515192,
          99824.5958875348,
          151529.4063611831,
          191327.48777166783,
          164307.92153135303,
          202911.32455386245,
          165530.5917779088,
          162486.08656213307,
          170663.2619331332,
          173483.37157239713,
          182472.3382482197,
          190055.26118616763,
          181413.62458073496,
          144857.89251063546,
          192679.49267241,
          142432.58162217005,
          150182.23069054392,
          184603.856602022,
          199812.09783887787,
          217627.97491864747,
          132380.7077072706,
          116041.44204889286,
          88292.55153149043,
          102661.6371601714,
          176537.5666116226,
          204809.02438898676,
          188220.05811037836,
          139026.24133094956,
          220766.2509847569,
          148336.17501872213,
          159305.4804464186,
          112481.49154772105,
          90884.1808571384,
          90185.64290290503,
          167632.91379537346,
          142805.89965514845,
          127335.35806718707,
          173698.47765252262,
          154037.43919422975,
          157086.08639675847,
          165907.17806910112,
          111860.54056698427,
          143264.73658209998,
          136769.24118625128,
          161863.17668867327,
          153347.868139094,
          148536.42314118374,
          151216.48723056013,
          181561.00608593365,
          166959.84681429694,
          115959.65313171246,
          150185.84665203706,
          165638.00369419114,
          94945.65397851376,
          98223.7960743916,
          81759.21345046404,
          20522.17516799688,
          9732.747578852037,
          57754.40908610476,
          83606.32509951951,
          172177.57820843376,
          160614.8839088067,
          39581.18919261197,
          157793.39481692846,
          46956.82527963114,
          126463.9630446369,
          185148.8991064779,
          120741.84156316509,
          71304.14004487758,
          145002.59071938932,
          143985.50880584537,
          33180.51845692329,
          139271.56754276904,
          25974.26540612553,
          5221.020263904506,
          74464.35578146888,
          104438.7674027559,
          128109.58879513644,
          83452.2130498074,
          159121.764067081,
          90106.13375516966,
          78821.35488013893,
          62945.61917548436,
          42518.10948954498,
          71431.7246685676,
          69978.31793014336,
          96027.51403037364,
          27763.853656908992,
          62968.49448133428,
          51766.689378798736,
          41010.120928514494,
          90122.82117462998,
          24650.006720282207,
          250626.0604636844,
          182416.4307195995,
          52819.10294440584,
          102751.36597806535,
          100048.87764161316,
          115048.08284377672,
          135882.27638407997,
          59739.67185358585,
          49199.53377990249,
          62275.03429788546,
          109223.2465212248,
          32316.157810360903,
          114754.9293998854,
          123198.53559077122,
          128898.17354974191,
          129382.75784978872,
          105581.12981795883,
          122039.2296776644,
          184143.75056665827,
          151960.83831061848,
          20130.29937104478,
          212686.63735127196,
          150221.5172821462,
          136469.53013921532,
          183093.86799372276,
          153592.51998140052,
          143569.70475884905,
          125314.1293299838,
          148142.51378051835,
          96611.06679697245,
          200363.80176014907,
          207328.94545314493,
          114396.68329413648,
          52589.72311603555,
          116699.21497758816,
          110907.369093067,
          39066.96068504513,
          36558.33874088856,
          158958.0347817683,
          127506.13077630788,
          106044.5956053093,
          21311.681583779555,
          90747.66636029886,
          118393.73748238703,
          25772.807711551628,
          38713.85055569888,
          20126.930950383623,
          31411.106422495493,
          50101.39505694508,
          32894.90443478567,
          54854.60728210177,
          55236.6993228022,
          159248.2583087339,
          141540.13541101827,
          70346.62080031884,
          98758.76571632996,
          42631.35307935948,
          64927.53512239993,
          122642.12003848774,
          108859.19511652368,
          87352.92817196419,
          6515.351888412195,
          32018.69948821745,
          63213.66580260549,
          22881.729970621047,
          15749.624083931663,
          32369.650412958443,
          24593.225345299743,
          4757.983969093426,
          4085.5621249290016,
          1330.943276642027,
          4467.606324607842,
          21791.94358693096,
          3314.342107339753,
          23791.280981710814,
          19262.13529791505,
          14549.547966804748,
          27754.369666424835,
          44043.65979648573,
          75561.63889832201,
          67688.60554638045,
          53279.31758973032,
          44106.46859170799,
          20661.24390693033,
          20518.32109397756,
          34498.78297407853,
          47755.85138323082,
          52354.58932934613,
          34709.033031756706,
          8339.66664598118,
          28065.793206010072,
          56406.11568280257
         ],
         "y0": " ",
         "yaxis": "y"
        },
        {
         "alignmentgroup": "True",
         "hovertemplate": "time=%{x}<br>protocol_revenue=%{y}<extra></extra>",
         "legendgroup": "post FIP-0013",
         "marker": {
          "color": "#EF553B"
         },
         "name": "post FIP-0013",
         "notched": false,
         "offsetgroup": "post FIP-0013",
         "orientation": "v",
         "showlegend": true,
         "type": "box",
         "x": [
          "post FIP-0013",
          "post FIP-0013",
          "post FIP-0013",
          "post FIP-0013",
          "post FIP-0013",
          "post FIP-0013",
          "post FIP-0013",
          "post FIP-0013",
          "post FIP-0013",
          "post FIP-0013",
          "post FIP-0013",
          "post FIP-0013",
          "post FIP-0013",
          "post FIP-0013",
          "post FIP-0013",
          "post FIP-0013",
          "post FIP-0013",
          "post FIP-0013",
          "post FIP-0013",
          "post FIP-0013",
          "post FIP-0013",
          "post FIP-0013",
          "post FIP-0013",
          "post FIP-0013",
          "post FIP-0013",
          "post FIP-0013",
          "post FIP-0013",
          "post FIP-0013",
          "post FIP-0013",
          "post FIP-0013",
          "post FIP-0013",
          "post FIP-0013",
          "post FIP-0013",
          "post FIP-0013",
          "post FIP-0013",
          "post FIP-0013",
          "post FIP-0013",
          "post FIP-0013",
          "post FIP-0013",
          "post FIP-0013",
          "post FIP-0013",
          "post FIP-0013",
          "post FIP-0013",
          "post FIP-0013",
          "post FIP-0013",
          "post FIP-0013",
          "post FIP-0013",
          "post FIP-0013",
          "post FIP-0013",
          "post FIP-0013",
          "post FIP-0013",
          "post FIP-0013",
          "post FIP-0013",
          "post FIP-0013",
          "post FIP-0013",
          "post FIP-0013",
          "post FIP-0013",
          "post FIP-0013",
          "post FIP-0013",
          "post FIP-0013",
          "post FIP-0013",
          "post FIP-0013",
          "post FIP-0013",
          "post FIP-0013",
          "post FIP-0013",
          "post FIP-0013",
          "post FIP-0013",
          "post FIP-0013",
          "post FIP-0013",
          "post FIP-0013",
          "post FIP-0013",
          "post FIP-0013",
          "post FIP-0013",
          "post FIP-0013",
          "post FIP-0013",
          "post FIP-0013",
          "post FIP-0013",
          "post FIP-0013",
          "post FIP-0013",
          "post FIP-0013",
          "post FIP-0013",
          "post FIP-0013",
          "post FIP-0013",
          "post FIP-0013",
          "post FIP-0013",
          "post FIP-0013",
          "post FIP-0013",
          "post FIP-0013",
          "post FIP-0013",
          "post FIP-0013",
          "post FIP-0013",
          "post FIP-0013",
          "post FIP-0013",
          "post FIP-0013",
          "post FIP-0013",
          "post FIP-0013",
          "post FIP-0013",
          "post FIP-0013",
          "post FIP-0013",
          "post FIP-0013",
          "post FIP-0013",
          "post FIP-0013",
          "post FIP-0013",
          "post FIP-0013",
          "post FIP-0013",
          "post FIP-0013",
          "post FIP-0013",
          "post FIP-0013",
          "post FIP-0013",
          "post FIP-0013",
          "post FIP-0013"
         ],
         "x0": " ",
         "xaxis": "x",
         "y": [
          52319.05611044269,
          34141.31407590259,
          10947.924468467423,
          1679.7669918757535,
          6432.516580189145,
          2585.318243744438,
          531.467134657036,
          349.2026321654995,
          904.3056093208904,
          656.7767106995855,
          3085.715654765941,
          5849.789069266096,
          5887.470090903174,
          6481.445639586184,
          9066.537637548949,
          7479.14975910574,
          7350.957133902233,
          8697.09969005739,
          7278.166862046414,
          7802.889652961491,
          8335.997705927846,
          9328.410152342864,
          10539.57354623263,
          19192.17960440714,
          13206.941878250924,
          7490.647561266807,
          7428.984353497146,
          7904.372622415671,
          8172.1259504255395,
          7689.724770833423,
          9025.627368383462,
          9455.002654876876,
          8178.980142069552,
          7942.443687592172,
          8994.662337412112,
          9941.47940439866,
          14578.058661481558,
          13577.755314605369,
          13104.319249476148,
          11284.683814945674,
          10872.48801896795,
          10895.096792033934,
          9933.585251320046,
          8842.159069599991,
          9169.77795075799,
          9154.729700571585,
          8884.236963373673,
          8839.607521398739,
          9682.597811967584,
          10462.629645353283,
          9546.69674643885,
          9552.412832801308,
          8645.099312070999,
          12935.85173118874,
          9583.267328621125,
          12595.370824395884,
          9854.429445673864,
          9712.176808378455,
          10537.66201993941,
          9683.100524249656,
          9469.092652878751,
          9286.352328293357,
          9116.753783257316,
          10933.838629648311,
          12250.53832514759,
          12532.553570226191,
          12559.45366286406,
          12954.742300067375,
          13547.84369660956,
          29050.14961718459,
          22463.28215451694,
          23544.0142894661,
          18588.47963552184,
          14193.03405910573,
          13847.051620759492,
          11167.274844504576,
          11548.69210897458,
          19772.068346995395,
          24662.923313496067,
          12849.193991290187,
          15232.91313999652,
          10559.667383474589,
          10173.787268109883,
          11218.68658746212,
          10521.176650187052,
          10079.034632317856,
          10894.587574727051,
          10085.541477957571,
          9619.208924706138,
          9207.940722473735,
          8972.967726545086,
          9098.638626813294,
          8771.496670272238,
          8946.96132314255,
          8651.545668228173,
          8618.825293846592,
          8773.335117545454,
          8272.084670334218,
          8312.217413624463,
          8526.950184099156,
          8282.978693822952,
          8932.140560700494,
          8715.37340706397,
          8657.108770242516,
          8622.596258516543,
          8451.847770916096,
          7760.431525262829,
          7828.508447948243,
          8172.173838869144,
          7941.662685332381,
          7914.743366797909
         ],
         "y0": " ",
         "yaxis": "y"
        },
        {
         "alignmentgroup": "True",
         "hovertemplate": "time=%{x}<br>protocol_revenue=%{y}<extra></extra>",
         "legendgroup": "post FIP-0024",
         "marker": {
          "color": "#00cc96"
         },
         "name": "post FIP-0024",
         "notched": false,
         "offsetgroup": "post FIP-0024",
         "orientation": "v",
         "showlegend": true,
         "type": "box",
         "x": [
          "post FIP-0024",
          "post FIP-0024",
          "post FIP-0024",
          "post FIP-0024",
          "post FIP-0024",
          "post FIP-0024",
          "post FIP-0024",
          "post FIP-0024",
          "post FIP-0024",
          "post FIP-0024",
          "post FIP-0024",
          "post FIP-0024",
          "post FIP-0024",
          "post FIP-0024",
          "post FIP-0024",
          "post FIP-0024",
          "post FIP-0024",
          "post FIP-0024",
          "post FIP-0024",
          "post FIP-0024",
          "post FIP-0024",
          "post FIP-0024",
          "post FIP-0024",
          "post FIP-0024",
          "post FIP-0024",
          "post FIP-0024",
          "post FIP-0024",
          "post FIP-0024",
          "post FIP-0024",
          "post FIP-0024",
          "post FIP-0024",
          "post FIP-0024",
          "post FIP-0024",
          "post FIP-0024",
          "post FIP-0024",
          "post FIP-0024",
          "post FIP-0024",
          "post FIP-0024",
          "post FIP-0024",
          "post FIP-0024",
          "post FIP-0024",
          "post FIP-0024",
          "post FIP-0024",
          "post FIP-0024",
          "post FIP-0024",
          "post FIP-0024",
          "post FIP-0024",
          "post FIP-0024",
          "post FIP-0024",
          "post FIP-0024",
          "post FIP-0024",
          "post FIP-0024",
          "post FIP-0024",
          "post FIP-0024",
          "post FIP-0024",
          "post FIP-0024",
          "post FIP-0024",
          "post FIP-0024",
          "post FIP-0024",
          "post FIP-0024",
          "post FIP-0024",
          "post FIP-0024",
          "post FIP-0024",
          "post FIP-0024",
          "post FIP-0024",
          "post FIP-0024",
          "post FIP-0024",
          "post FIP-0024",
          "post FIP-0024",
          "post FIP-0024",
          "post FIP-0024",
          "post FIP-0024",
          "post FIP-0024",
          "post FIP-0024",
          "post FIP-0024",
          "post FIP-0024",
          "post FIP-0024",
          "post FIP-0024",
          "post FIP-0024",
          "post FIP-0024",
          "post FIP-0024",
          "post FIP-0024",
          "post FIP-0024",
          "post FIP-0024",
          "post FIP-0024",
          "post FIP-0024",
          "post FIP-0024",
          "post FIP-0024",
          "post FIP-0024",
          "post FIP-0024",
          "post FIP-0024",
          "post FIP-0024",
          "post FIP-0024",
          "post FIP-0024",
          "post FIP-0024",
          "post FIP-0024",
          "post FIP-0024",
          "post FIP-0024",
          "post FIP-0024",
          "post FIP-0024",
          "post FIP-0024",
          "post FIP-0024",
          "post FIP-0024",
          "post FIP-0024",
          "post FIP-0024",
          "post FIP-0024",
          "post FIP-0024",
          "post FIP-0024",
          "post FIP-0024",
          "post FIP-0024",
          "post FIP-0024",
          "post FIP-0024",
          "post FIP-0024",
          "post FIP-0024",
          "post FIP-0024",
          "post FIP-0024",
          "post FIP-0024",
          "post FIP-0024",
          "post FIP-0024",
          "post FIP-0024",
          "post FIP-0024",
          "post FIP-0024",
          "post FIP-0024",
          "post FIP-0024",
          "post FIP-0024",
          "post FIP-0024",
          "post FIP-0024",
          "post FIP-0024",
          "post FIP-0024",
          "post FIP-0024",
          "post FIP-0024",
          "post FIP-0024",
          "post FIP-0024",
          "post FIP-0024",
          "post FIP-0024",
          "post FIP-0024",
          "post FIP-0024",
          "post FIP-0024",
          "post FIP-0024",
          "post FIP-0024",
          "post FIP-0024",
          "post FIP-0024",
          "post FIP-0024",
          "post FIP-0024",
          "post FIP-0024",
          "post FIP-0024",
          "post FIP-0024",
          "post FIP-0024",
          "post FIP-0024",
          "post FIP-0024",
          "post FIP-0024",
          "post FIP-0024",
          "post FIP-0024",
          "post FIP-0024",
          "post FIP-0024",
          "post FIP-0024",
          "post FIP-0024",
          "post FIP-0024",
          "post FIP-0024",
          "post FIP-0024",
          "post FIP-0024",
          "post FIP-0024",
          "post FIP-0024",
          "post FIP-0024",
          "post FIP-0024",
          "post FIP-0024",
          "post FIP-0024",
          "post FIP-0024",
          "post FIP-0024",
          "post FIP-0024",
          "post FIP-0024",
          "post FIP-0024",
          "post FIP-0024",
          "post FIP-0024",
          "post FIP-0024",
          "post FIP-0024",
          "post FIP-0024",
          "post FIP-0024",
          "post FIP-0024",
          "post FIP-0024",
          "post FIP-0024",
          "post FIP-0024",
          "post FIP-0024",
          "post FIP-0024",
          "post FIP-0024",
          "post FIP-0024",
          "post FIP-0024",
          "post FIP-0024",
          "post FIP-0024",
          "post FIP-0024",
          "post FIP-0024",
          "post FIP-0024",
          "post FIP-0024",
          "post FIP-0024",
          "post FIP-0024",
          "post FIP-0024",
          "post FIP-0024",
          "post FIP-0024",
          "post FIP-0024",
          "post FIP-0024",
          "post FIP-0024",
          "post FIP-0024",
          "post FIP-0024",
          "post FIP-0024",
          "post FIP-0024",
          "post FIP-0024",
          "post FIP-0024",
          "post FIP-0024",
          "post FIP-0024",
          "post FIP-0024",
          "post FIP-0024",
          "post FIP-0024",
          "post FIP-0024",
          "post FIP-0024",
          "post FIP-0024",
          "post FIP-0024",
          "post FIP-0024",
          "post FIP-0024",
          "post FIP-0024",
          "post FIP-0024",
          "post FIP-0024",
          "post FIP-0024",
          "post FIP-0024",
          "post FIP-0024",
          "post FIP-0024",
          "post FIP-0024",
          "post FIP-0024",
          "post FIP-0024",
          "post FIP-0024",
          "post FIP-0024",
          "post FIP-0024",
          "post FIP-0024",
          "post FIP-0024",
          "post FIP-0024",
          "post FIP-0024",
          "post FIP-0024",
          "post FIP-0024",
          "post FIP-0024",
          "post FIP-0024",
          "post FIP-0024",
          "post FIP-0024",
          "post FIP-0024",
          "post FIP-0024",
          "post FIP-0024",
          "post FIP-0024",
          "post FIP-0024",
          "post FIP-0024",
          "post FIP-0024",
          "post FIP-0024",
          "post FIP-0024",
          "post FIP-0024",
          "post FIP-0024",
          "post FIP-0024",
          "post FIP-0024",
          "post FIP-0024",
          "post FIP-0024",
          "post FIP-0024",
          "post FIP-0024",
          "post FIP-0024",
          "post FIP-0024",
          "post FIP-0024",
          "post FIP-0024",
          "post FIP-0024",
          "post FIP-0024",
          "post FIP-0024",
          "post FIP-0024",
          "post FIP-0024",
          "post FIP-0024",
          "post FIP-0024",
          "post FIP-0024",
          "post FIP-0024",
          "post FIP-0024",
          "post FIP-0024",
          "post FIP-0024",
          "post FIP-0024",
          "post FIP-0024",
          "post FIP-0024",
          "post FIP-0024",
          "post FIP-0024",
          "post FIP-0024",
          "post FIP-0024",
          "post FIP-0024",
          "post FIP-0024",
          "post FIP-0024",
          "post FIP-0024",
          "post FIP-0024",
          "post FIP-0024",
          "post FIP-0024",
          "post FIP-0024",
          "post FIP-0024",
          "post FIP-0024",
          "post FIP-0024",
          "post FIP-0024",
          "post FIP-0024",
          "post FIP-0024",
          "post FIP-0024",
          "post FIP-0024",
          "post FIP-0024",
          "post FIP-0024",
          "post FIP-0024",
          "post FIP-0024",
          "post FIP-0024",
          "post FIP-0024",
          "post FIP-0024",
          "post FIP-0024",
          "post FIP-0024",
          "post FIP-0024",
          "post FIP-0024",
          "post FIP-0024",
          "post FIP-0024",
          "post FIP-0024",
          "post FIP-0024",
          "post FIP-0024",
          "post FIP-0024",
          "post FIP-0024",
          "post FIP-0024",
          "post FIP-0024",
          "post FIP-0024",
          "post FIP-0024",
          "post FIP-0024",
          "post FIP-0024",
          "post FIP-0024",
          "post FIP-0024",
          "post FIP-0024",
          "post FIP-0024",
          "post FIP-0024",
          "post FIP-0024",
          "post FIP-0024",
          "post FIP-0024",
          "post FIP-0024",
          "post FIP-0024",
          "post FIP-0024",
          "post FIP-0024",
          "post FIP-0024",
          "post FIP-0024",
          "post FIP-0024",
          "post FIP-0024",
          "post FIP-0024",
          "post FIP-0024",
          "post FIP-0024",
          "post FIP-0024",
          "post FIP-0024",
          "post FIP-0024",
          "post FIP-0024",
          "post FIP-0024",
          "post FIP-0024",
          "post FIP-0024",
          "post FIP-0024",
          "post FIP-0024",
          "post FIP-0024",
          "post FIP-0024",
          "post FIP-0024",
          "post FIP-0024",
          "post FIP-0024",
          "post FIP-0024",
          "post FIP-0024",
          "post FIP-0024",
          "post FIP-0024",
          "post FIP-0024",
          "post FIP-0024",
          "post FIP-0024",
          "post FIP-0024",
          "post FIP-0024",
          "post FIP-0024",
          "post FIP-0024"
         ],
         "x0": " ",
         "xaxis": "x",
         "y": [
          7730.225830684393,
          7695.779357431206,
          7538.68340439706,
          6493.556105758497,
          6381.399186749868,
          5839.838501962346,
          4227.895966998507,
          4832.13906041372,
          5442.247443802973,
          5434.937045124664,
          11631.200974331678,
          3826.2973796022434,
          5175.261642132547,
          3912.14905251322,
          4039.845289462641,
          11281.105685716671,
          12585.324515145932,
          12867.694898961588,
          12853.882133481486,
          11654.678734661058,
          10268.13770142964,
          12401.94962090765,
          12714.907377248495,
          12868.856253344582,
          10396.457759751454,
          10897.801978858184,
          7565.699329956763,
          5439.96914425604,
          8913.814044766186,
          13166.335683839545,
          9999.369455575672,
          10714.843945268354,
          10289.656263636682,
          6352.932097234883,
          2016.4424488543132,
          1976.3516332835736,
          4349.127430466142,
          5384.207826935824,
          5087.146426995475,
          3781.969998218494,
          5816.941207067518,
          5787.901204965025,
          7501.163295599398,
          3761.798525511478,
          4128.224077333772,
          7531.181053524334,
          12815.37148605888,
          6118.270008808049,
          3804.811178190223,
          4005.0527463762687,
          3999.829044873774,
          3851.150502658458,
          4083.89662821834,
          3819.7916467176183,
          4050.536517479511,
          4041.4057617259023,
          4315.136974037918,
          3961.1780387698977,
          4110.998220645139,
          3963.836875625819,
          4041.100160702808,
          62379.26106948989,
          4279.411300843524,
          1896.06650864494,
          3677.1132814867015,
          1569.9353397904115,
          5019.411629437438,
          9811.325717927271,
          3475.195826382534,
          3527.185411197226,
          4809.122902975493,
          9220.536520091391,
          8352.53589616792,
          9085.021734041837,
          4962.4448335435645,
          1779.913234761113,
          3890.7290617100575,
          1751.0364853255498,
          2231.198356581969,
          778.7697860623615,
          1676.9254837595947,
          2397.855538843699,
          1635.96654246638,
          1514.1741818047296,
          1012.3307223968474,
          738.9576175468069,
          816.1941744820552,
          706.6249233700327,
          589.7418559423926,
          676.4435031114209,
          1431.4813545739455,
          5946.553860836191,
          4356.621169653032,
          3468.080459520725,
          4341.164458439856,
          6111.095602346502,
          4372.500391478406,
          587.0069512367405,
          548.0340315722206,
          338.2993780099428,
          736.2347847223956,
          575.8583949754363,
          389.42939959765584,
          2465.6269935627984,
          525.7137272465701,
          730.2098262747196,
          3841.564180623912,
          3161.856964595686,
          3078.78105621158,
          4698.011423472344,
          7181.191771023759,
          3288.7733699378805,
          1673.8091943099655,
          974.9456347349663,
          367.6610432307983,
          303.8525290445569,
          231.7152076848037,
          377.4726037575082,
          269.55163996804447,
          330.7572716739969,
          250.1114416364476,
          285.07756687676715,
          318.9145667362764,
          228.42002292069424,
          510.0482943471654,
          314.6856705729999,
          449.5704516076935,
          706.389191769131,
          285.7499142580159,
          234.18258775137812,
          915.7506476219592,
          438.7869263162984,
          539.0679042114302,
          758.0548555023573,
          403.90284441868624,
          972.051514566402,
          560.0590098269864,
          1532.5766453528663,
          719.8192806645344,
          1158.2861356132307,
          1154.1903755510857,
          4003.178178607565,
          7813.109363082068,
          9497.449944364089,
          8273.294657004539,
          6813.72622672278,
          2125.730681184718,
          9843.44871235861,
          6829.131298440315,
          6926.748488948631,
          7704.729774742333,
          6559.692675270353,
          6897.540809637745,
          6939.496750670677,
          6572.143380551693,
          7479.024505835336,
          9149.28580262597,
          12857.459084904543,
          13452.888271398138,
          12193.0191204073,
          10828.975964808353,
          8337.259430745682,
          8612.518896025656,
          10549.905288698788,
          13156.96191663178,
          13886.032467268158,
          12848.027879343548,
          13197.98779303757,
          15451.754073592174,
          17112.905020735347,
          17418.429790698294,
          15337.034916600447,
          15703.68249316241,
          12929.189143138312,
          13583.464342597816,
          10098.393829349428,
          10928.812387370095,
          12695.862784981882,
          15261.595885864994,
          12014.05413791614,
          13122.618103287848,
          12572.342580448803,
          12685.798289527083,
          12497.4139057375,
          12021.443815009516,
          13115.705827380596,
          14622.84103664892,
          13789.818179918811,
          9863.456321365977,
          10121.689987022008,
          13229.762595865512,
          11852.391203993511,
          12555.126723850692,
          13761.479678769696,
          10978.269752766808,
          12772.584992708957,
          15647.499212000144,
          17981.020989509994,
          17099.919854127023,
          15510.184950685974,
          13233.084720384775,
          19684.126825108942,
          11770.908222511587,
          11559.600714317135,
          11590.86771900856,
          12705.727022658197,
          16496.2298518779,
          18061.47768887308,
          20776.850221122157,
          21977.287878046245,
          20873.95883879106,
          20625.100282522333,
          19829.654091560908,
          47192.5634792402,
          152943.98306091936,
          13672.316610147813,
          15977.506965790477,
          15633.084186935372,
          14963.606298812763,
          14999.517562804136,
          13844.989882481152,
          14899.413009646034,
          13127.350151581322,
          11865.483028670338,
          13454.623080537942,
          8902.79054376536,
          9827.360882588138,
          10046.689893164998,
          11301.0281116737,
          11506.641798971776,
          10299.242379323148,
          11461.213603292264,
          10293.65448766159,
          11290.145625816343,
          10483.826483489896,
          9838.715818824026,
          9013.643630306608,
          9415.158241482,
          11388.538062076408,
          11057.233664043057,
          10416.895359738435,
          10829.34016502734,
          9765.396804799537,
          9492.08401191903,
          9520.800350244395,
          11938.207635242128,
          11735.534287925562,
          13160.783100189445,
          17187.760058284264,
          10944.931726674444,
          14150.488110405831,
          24084.688376834463,
          13007.229587871694,
          13205.935281425944,
          12353.920839573932,
          9567.725029202826,
          7687.746717314412,
          12845.534856124592,
          9080.68761932822,
          10806.103389779728,
          12227.639914475005,
          16501.99311520624,
          10355.395911267346,
          7040.846764244001,
          4535.281036482134,
          3109.1101430018807,
          6689.068214872079,
          23477.51044470541,
          47370.60569365417,
          30273.601300157192,
          27672.137352326128,
          23498.395092244704,
          18678.95182753151,
          19480.54439635842,
          18980.68463046058,
          26787.83797456914,
          23922.0788017368,
          21377.44840939026,
          17243.06042348848,
          19152.89107253793,
          18075.4850805634,
          18651.63410155214,
          18325.955717223685,
          20183.30368708028,
          20515.28043155097,
          19332.12947881416,
          17829.400409233225,
          14650.225135905392,
          16843.03098500635,
          17546.203521964126,
          19121.967329447674,
          23936.115968141192,
          13808.742867833038,
          11149.89710813624,
          13201.10931130128,
          12811.634769944303,
          11339.72121348193,
          14047.8488362738,
          19054.838161943564,
          14339.150314305483,
          14100.343804307236,
          17204.428599967323,
          18831.018236372078,
          19093.731859953536,
          19096.376937374866,
          19987.794592638253,
          14628.285235459642,
          14376.750396920675,
          14758.302079412057,
          24249.597673485347,
          19325.97454162217,
          15670.135791075463,
          15694.606878129607,
          12842.46061979252,
          11480.681687413016,
          13539.63723347757,
          11613.06642846523,
          15876.712008440938,
          22786.91429439621,
          24242.87735776169,
          16711.681714301965,
          21319.16581379111,
          16744.473996778655,
          23966.089513290277,
          19557.791381353258,
          20238.91224002421,
          11660.09777644583,
          15735.447116352832,
          22445.53987448693,
          14196.887725035293,
          15232.781657370237,
          14536.37243474205,
          15425.979710156838,
          9204.315723578826,
          7055.949642202058,
          10125.370861845531,
          12688.258590066678,
          12619.639729655086,
          13984.149367542212,
          15747.351265551622,
          15035.807888099229,
          14702.476159970964,
          35948.356984003025,
          14357.963220244914,
          31028.13296718024,
          22157.473659795945,
          14355.630425074049,
          15563.622316067394,
          16151.275378709786,
          26525.790945209745,
          18925.302495197528,
          12158.38458496422,
          9433.11152472303,
          19130.769499995586,
          21959.66685819417,
          18751.67505500063,
          13617.514485460995,
          14925.979015174711,
          17744.628089518137,
          12795.7177189393,
          9360.896925203604,
          20856.259340522545,
          33079.28225678299,
          29337.212762574032,
          33855.669051006844
         ],
         "y0": " ",
         "yaxis": "y"
        }
       ],
       "layout": {
        "boxmode": "overlay",
        "legend": {
         "title": {
          "text": "time"
         },
         "tracegroupgap": 0
        },
        "margin": {
         "t": 60
        },
        "template": {
         "data": {
          "bar": [
           {
            "error_x": {
             "color": "#2a3f5f"
            },
            "error_y": {
             "color": "#2a3f5f"
            },
            "marker": {
             "line": {
              "color": "#E5ECF6",
              "width": 0.5
             },
             "pattern": {
              "fillmode": "overlay",
              "size": 10,
              "solidity": 0.2
             }
            },
            "type": "bar"
           }
          ],
          "barpolar": [
           {
            "marker": {
             "line": {
              "color": "#E5ECF6",
              "width": 0.5
             },
             "pattern": {
              "fillmode": "overlay",
              "size": 10,
              "solidity": 0.2
             }
            },
            "type": "barpolar"
           }
          ],
          "carpet": [
           {
            "aaxis": {
             "endlinecolor": "#2a3f5f",
             "gridcolor": "white",
             "linecolor": "white",
             "minorgridcolor": "white",
             "startlinecolor": "#2a3f5f"
            },
            "baxis": {
             "endlinecolor": "#2a3f5f",
             "gridcolor": "white",
             "linecolor": "white",
             "minorgridcolor": "white",
             "startlinecolor": "#2a3f5f"
            },
            "type": "carpet"
           }
          ],
          "choropleth": [
           {
            "colorbar": {
             "outlinewidth": 0,
             "ticks": ""
            },
            "type": "choropleth"
           }
          ],
          "contour": [
           {
            "colorbar": {
             "outlinewidth": 0,
             "ticks": ""
            },
            "colorscale": [
             [
              0,
              "#0d0887"
             ],
             [
              0.1111111111111111,
              "#46039f"
             ],
             [
              0.2222222222222222,
              "#7201a8"
             ],
             [
              0.3333333333333333,
              "#9c179e"
             ],
             [
              0.4444444444444444,
              "#bd3786"
             ],
             [
              0.5555555555555556,
              "#d8576b"
             ],
             [
              0.6666666666666666,
              "#ed7953"
             ],
             [
              0.7777777777777778,
              "#fb9f3a"
             ],
             [
              0.8888888888888888,
              "#fdca26"
             ],
             [
              1,
              "#f0f921"
             ]
            ],
            "type": "contour"
           }
          ],
          "contourcarpet": [
           {
            "colorbar": {
             "outlinewidth": 0,
             "ticks": ""
            },
            "type": "contourcarpet"
           }
          ],
          "heatmap": [
           {
            "colorbar": {
             "outlinewidth": 0,
             "ticks": ""
            },
            "colorscale": [
             [
              0,
              "#0d0887"
             ],
             [
              0.1111111111111111,
              "#46039f"
             ],
             [
              0.2222222222222222,
              "#7201a8"
             ],
             [
              0.3333333333333333,
              "#9c179e"
             ],
             [
              0.4444444444444444,
              "#bd3786"
             ],
             [
              0.5555555555555556,
              "#d8576b"
             ],
             [
              0.6666666666666666,
              "#ed7953"
             ],
             [
              0.7777777777777778,
              "#fb9f3a"
             ],
             [
              0.8888888888888888,
              "#fdca26"
             ],
             [
              1,
              "#f0f921"
             ]
            ],
            "type": "heatmap"
           }
          ],
          "heatmapgl": [
           {
            "colorbar": {
             "outlinewidth": 0,
             "ticks": ""
            },
            "colorscale": [
             [
              0,
              "#0d0887"
             ],
             [
              0.1111111111111111,
              "#46039f"
             ],
             [
              0.2222222222222222,
              "#7201a8"
             ],
             [
              0.3333333333333333,
              "#9c179e"
             ],
             [
              0.4444444444444444,
              "#bd3786"
             ],
             [
              0.5555555555555556,
              "#d8576b"
             ],
             [
              0.6666666666666666,
              "#ed7953"
             ],
             [
              0.7777777777777778,
              "#fb9f3a"
             ],
             [
              0.8888888888888888,
              "#fdca26"
             ],
             [
              1,
              "#f0f921"
             ]
            ],
            "type": "heatmapgl"
           }
          ],
          "histogram": [
           {
            "marker": {
             "pattern": {
              "fillmode": "overlay",
              "size": 10,
              "solidity": 0.2
             }
            },
            "type": "histogram"
           }
          ],
          "histogram2d": [
           {
            "colorbar": {
             "outlinewidth": 0,
             "ticks": ""
            },
            "colorscale": [
             [
              0,
              "#0d0887"
             ],
             [
              0.1111111111111111,
              "#46039f"
             ],
             [
              0.2222222222222222,
              "#7201a8"
             ],
             [
              0.3333333333333333,
              "#9c179e"
             ],
             [
              0.4444444444444444,
              "#bd3786"
             ],
             [
              0.5555555555555556,
              "#d8576b"
             ],
             [
              0.6666666666666666,
              "#ed7953"
             ],
             [
              0.7777777777777778,
              "#fb9f3a"
             ],
             [
              0.8888888888888888,
              "#fdca26"
             ],
             [
              1,
              "#f0f921"
             ]
            ],
            "type": "histogram2d"
           }
          ],
          "histogram2dcontour": [
           {
            "colorbar": {
             "outlinewidth": 0,
             "ticks": ""
            },
            "colorscale": [
             [
              0,
              "#0d0887"
             ],
             [
              0.1111111111111111,
              "#46039f"
             ],
             [
              0.2222222222222222,
              "#7201a8"
             ],
             [
              0.3333333333333333,
              "#9c179e"
             ],
             [
              0.4444444444444444,
              "#bd3786"
             ],
             [
              0.5555555555555556,
              "#d8576b"
             ],
             [
              0.6666666666666666,
              "#ed7953"
             ],
             [
              0.7777777777777778,
              "#fb9f3a"
             ],
             [
              0.8888888888888888,
              "#fdca26"
             ],
             [
              1,
              "#f0f921"
             ]
            ],
            "type": "histogram2dcontour"
           }
          ],
          "mesh3d": [
           {
            "colorbar": {
             "outlinewidth": 0,
             "ticks": ""
            },
            "type": "mesh3d"
           }
          ],
          "parcoords": [
           {
            "line": {
             "colorbar": {
              "outlinewidth": 0,
              "ticks": ""
             }
            },
            "type": "parcoords"
           }
          ],
          "pie": [
           {
            "automargin": true,
            "type": "pie"
           }
          ],
          "scatter": [
           {
            "fillpattern": {
             "fillmode": "overlay",
             "size": 10,
             "solidity": 0.2
            },
            "type": "scatter"
           }
          ],
          "scatter3d": [
           {
            "line": {
             "colorbar": {
              "outlinewidth": 0,
              "ticks": ""
             }
            },
            "marker": {
             "colorbar": {
              "outlinewidth": 0,
              "ticks": ""
             }
            },
            "type": "scatter3d"
           }
          ],
          "scattercarpet": [
           {
            "marker": {
             "colorbar": {
              "outlinewidth": 0,
              "ticks": ""
             }
            },
            "type": "scattercarpet"
           }
          ],
          "scattergeo": [
           {
            "marker": {
             "colorbar": {
              "outlinewidth": 0,
              "ticks": ""
             }
            },
            "type": "scattergeo"
           }
          ],
          "scattergl": [
           {
            "marker": {
             "colorbar": {
              "outlinewidth": 0,
              "ticks": ""
             }
            },
            "type": "scattergl"
           }
          ],
          "scattermapbox": [
           {
            "marker": {
             "colorbar": {
              "outlinewidth": 0,
              "ticks": ""
             }
            },
            "type": "scattermapbox"
           }
          ],
          "scatterpolar": [
           {
            "marker": {
             "colorbar": {
              "outlinewidth": 0,
              "ticks": ""
             }
            },
            "type": "scatterpolar"
           }
          ],
          "scatterpolargl": [
           {
            "marker": {
             "colorbar": {
              "outlinewidth": 0,
              "ticks": ""
             }
            },
            "type": "scatterpolargl"
           }
          ],
          "scatterternary": [
           {
            "marker": {
             "colorbar": {
              "outlinewidth": 0,
              "ticks": ""
             }
            },
            "type": "scatterternary"
           }
          ],
          "surface": [
           {
            "colorbar": {
             "outlinewidth": 0,
             "ticks": ""
            },
            "colorscale": [
             [
              0,
              "#0d0887"
             ],
             [
              0.1111111111111111,
              "#46039f"
             ],
             [
              0.2222222222222222,
              "#7201a8"
             ],
             [
              0.3333333333333333,
              "#9c179e"
             ],
             [
              0.4444444444444444,
              "#bd3786"
             ],
             [
              0.5555555555555556,
              "#d8576b"
             ],
             [
              0.6666666666666666,
              "#ed7953"
             ],
             [
              0.7777777777777778,
              "#fb9f3a"
             ],
             [
              0.8888888888888888,
              "#fdca26"
             ],
             [
              1,
              "#f0f921"
             ]
            ],
            "type": "surface"
           }
          ],
          "table": [
           {
            "cells": {
             "fill": {
              "color": "#EBF0F8"
             },
             "line": {
              "color": "white"
             }
            },
            "header": {
             "fill": {
              "color": "#C8D4E3"
             },
             "line": {
              "color": "white"
             }
            },
            "type": "table"
           }
          ]
         },
         "layout": {
          "annotationdefaults": {
           "arrowcolor": "#2a3f5f",
           "arrowhead": 0,
           "arrowwidth": 1
          },
          "autotypenumbers": "strict",
          "coloraxis": {
           "colorbar": {
            "outlinewidth": 0,
            "ticks": ""
           }
          },
          "colorscale": {
           "diverging": [
            [
             0,
             "#8e0152"
            ],
            [
             0.1,
             "#c51b7d"
            ],
            [
             0.2,
             "#de77ae"
            ],
            [
             0.3,
             "#f1b6da"
            ],
            [
             0.4,
             "#fde0ef"
            ],
            [
             0.5,
             "#f7f7f7"
            ],
            [
             0.6,
             "#e6f5d0"
            ],
            [
             0.7,
             "#b8e186"
            ],
            [
             0.8,
             "#7fbc41"
            ],
            [
             0.9,
             "#4d9221"
            ],
            [
             1,
             "#276419"
            ]
           ],
           "sequential": [
            [
             0,
             "#0d0887"
            ],
            [
             0.1111111111111111,
             "#46039f"
            ],
            [
             0.2222222222222222,
             "#7201a8"
            ],
            [
             0.3333333333333333,
             "#9c179e"
            ],
            [
             0.4444444444444444,
             "#bd3786"
            ],
            [
             0.5555555555555556,
             "#d8576b"
            ],
            [
             0.6666666666666666,
             "#ed7953"
            ],
            [
             0.7777777777777778,
             "#fb9f3a"
            ],
            [
             0.8888888888888888,
             "#fdca26"
            ],
            [
             1,
             "#f0f921"
            ]
           ],
           "sequentialminus": [
            [
             0,
             "#0d0887"
            ],
            [
             0.1111111111111111,
             "#46039f"
            ],
            [
             0.2222222222222222,
             "#7201a8"
            ],
            [
             0.3333333333333333,
             "#9c179e"
            ],
            [
             0.4444444444444444,
             "#bd3786"
            ],
            [
             0.5555555555555556,
             "#d8576b"
            ],
            [
             0.6666666666666666,
             "#ed7953"
            ],
            [
             0.7777777777777778,
             "#fb9f3a"
            ],
            [
             0.8888888888888888,
             "#fdca26"
            ],
            [
             1,
             "#f0f921"
            ]
           ]
          },
          "colorway": [
           "#636efa",
           "#EF553B",
           "#00cc96",
           "#ab63fa",
           "#FFA15A",
           "#19d3f3",
           "#FF6692",
           "#B6E880",
           "#FF97FF",
           "#FECB52"
          ],
          "font": {
           "color": "#2a3f5f"
          },
          "geo": {
           "bgcolor": "white",
           "lakecolor": "white",
           "landcolor": "#E5ECF6",
           "showlakes": true,
           "showland": true,
           "subunitcolor": "white"
          },
          "hoverlabel": {
           "align": "left"
          },
          "hovermode": "closest",
          "mapbox": {
           "style": "light"
          },
          "paper_bgcolor": "white",
          "plot_bgcolor": "#E5ECF6",
          "polar": {
           "angularaxis": {
            "gridcolor": "white",
            "linecolor": "white",
            "ticks": ""
           },
           "bgcolor": "#E5ECF6",
           "radialaxis": {
            "gridcolor": "white",
            "linecolor": "white",
            "ticks": ""
           }
          },
          "scene": {
           "xaxis": {
            "backgroundcolor": "#E5ECF6",
            "gridcolor": "white",
            "gridwidth": 2,
            "linecolor": "white",
            "showbackground": true,
            "ticks": "",
            "zerolinecolor": "white"
           },
           "yaxis": {
            "backgroundcolor": "#E5ECF6",
            "gridcolor": "white",
            "gridwidth": 2,
            "linecolor": "white",
            "showbackground": true,
            "ticks": "",
            "zerolinecolor": "white"
           },
           "zaxis": {
            "backgroundcolor": "#E5ECF6",
            "gridcolor": "white",
            "gridwidth": 2,
            "linecolor": "white",
            "showbackground": true,
            "ticks": "",
            "zerolinecolor": "white"
           }
          },
          "shapedefaults": {
           "line": {
            "color": "#2a3f5f"
           }
          },
          "ternary": {
           "aaxis": {
            "gridcolor": "white",
            "linecolor": "white",
            "ticks": ""
           },
           "baxis": {
            "gridcolor": "white",
            "linecolor": "white",
            "ticks": ""
           },
           "bgcolor": "#E5ECF6",
           "caxis": {
            "gridcolor": "white",
            "linecolor": "white",
            "ticks": ""
           }
          },
          "title": {
           "x": 0.05
          },
          "xaxis": {
           "automargin": true,
           "gridcolor": "white",
           "linecolor": "white",
           "ticks": "",
           "title": {
            "standoff": 15
           },
           "zerolinecolor": "white",
           "zerolinewidth": 2
          },
          "yaxis": {
           "automargin": true,
           "gridcolor": "white",
           "linecolor": "white",
           "ticks": "",
           "title": {
            "standoff": 15
           },
           "zerolinecolor": "white",
           "zerolinewidth": 2
          }
         }
        },
        "xaxis": {
         "anchor": "y",
         "categoryarray": [
          "pre-hyperdrive",
          "post FIP-0013",
          "post FIP-0024"
         ],
         "categoryorder": "array",
         "domain": [
          0,
          1
         ],
         "title": {
          "text": "time"
         }
        },
        "yaxis": {
         "anchor": "x",
         "domain": [
          0,
          1
         ],
         "title": {
          "text": "protocol_revenue"
         }
        }
       }
      }
     },
     "metadata": {},
     "output_type": "display_data"
    },
    {
     "data": {
      "application/vnd.plotly.v1+json": {
       "config": {
        "plotlyServerURL": "https://plot.ly"
       },
       "data": [
        {
         "alignmentgroup": "True",
         "bingroup": "x",
         "hovertemplate": "time=pre-hyperdrive<br>protocol_revenue=%{x}<br>count=%{y}<extra></extra>",
         "legendgroup": "pre-hyperdrive",
         "marker": {
          "color": "#636efa",
          "pattern": {
           "shape": ""
          }
         },
         "name": "pre-hyperdrive",
         "offsetgroup": "pre-hyperdrive",
         "orientation": "v",
         "showlegend": true,
         "type": "histogram",
         "x": [
          34180.20403873452,
          10887.143941730012,
          6388.681321242623,
          6024.592296159231,
          4604.858137448265,
          4667.864072574741,
          4638.197209811512,
          5755.740123400299,
          11045.801728635675,
          4778.718765836868,
          4061.550714955614,
          115786.58325065862,
          15254.431280808514,
          3013.4784461118943,
          10260.779696664977,
          5509.964076512612,
          9605.155528743258,
          3201.1639776076167,
          3449.1537621338443,
          4338.722404089574,
          5400.739975881051,
          8913.711056865479,
          6572.451489743751,
          4187.061065631208,
          4421.409745858617,
          3675.256082988464,
          10885.287953163792,
          20129.12764013261,
          41821.17711717312,
          34402.58175498292,
          55852.49025557429,
          41215.18576412716,
          27152.97795995045,
          65302.72488984488,
          72542.06971727942,
          81447.41217142517,
          80789.64136686253,
          22068.802068897305,
          85386.34531088479,
          25702.41698549449,
          5248.193252133985,
          3929.716501476054,
          8696.566158459867,
          104123.66781156616,
          119960.4187258438,
          43922.83463306801,
          120547.32143229088,
          134244.49656497934,
          156266.08306023557,
          151222.85393527994,
          62786.10107871849,
          149604.64150925635,
          147976.2844166198,
          110799.93297156268,
          168210.8119897202,
          188792.02389595663,
          138108.4674132607,
          210402.69066782645,
          203616.1543306923,
          180457.13148170916,
          189198.7523099185,
          212721.50018804232,
          211359.05951922384,
          187772.58728228413,
          169445.49589964084,
          97010.03321803897,
          52265.60681515192,
          99824.5958875348,
          151529.4063611831,
          191327.48777166783,
          164307.92153135303,
          202911.32455386245,
          165530.5917779088,
          162486.08656213307,
          170663.2619331332,
          173483.37157239713,
          182472.3382482197,
          190055.26118616763,
          181413.62458073496,
          144857.89251063546,
          192679.49267241,
          142432.58162217005,
          150182.23069054392,
          184603.856602022,
          199812.09783887787,
          217627.97491864747,
          132380.7077072706,
          116041.44204889286,
          88292.55153149043,
          102661.6371601714,
          176537.5666116226,
          204809.02438898676,
          188220.05811037836,
          139026.24133094956,
          220766.2509847569,
          148336.17501872213,
          159305.4804464186,
          112481.49154772105,
          90884.1808571384,
          90185.64290290503,
          167632.91379537346,
          142805.89965514845,
          127335.35806718707,
          173698.47765252262,
          154037.43919422975,
          157086.08639675847,
          165907.17806910112,
          111860.54056698427,
          143264.73658209998,
          136769.24118625128,
          161863.17668867327,
          153347.868139094,
          148536.42314118374,
          151216.48723056013,
          181561.00608593365,
          166959.84681429694,
          115959.65313171246,
          150185.84665203706,
          165638.00369419114,
          94945.65397851376,
          98223.7960743916,
          81759.21345046404,
          20522.17516799688,
          9732.747578852037,
          57754.40908610476,
          83606.32509951951,
          172177.57820843376,
          160614.8839088067,
          39581.18919261197,
          157793.39481692846,
          46956.82527963114,
          126463.9630446369,
          185148.8991064779,
          120741.84156316509,
          71304.14004487758,
          145002.59071938932,
          143985.50880584537,
          33180.51845692329,
          139271.56754276904,
          25974.26540612553,
          5221.020263904506,
          74464.35578146888,
          104438.7674027559,
          128109.58879513644,
          83452.2130498074,
          159121.764067081,
          90106.13375516966,
          78821.35488013893,
          62945.61917548436,
          42518.10948954498,
          71431.7246685676,
          69978.31793014336,
          96027.51403037364,
          27763.853656908992,
          62968.49448133428,
          51766.689378798736,
          41010.120928514494,
          90122.82117462998,
          24650.006720282207,
          250626.0604636844,
          182416.4307195995,
          52819.10294440584,
          102751.36597806535,
          100048.87764161316,
          115048.08284377672,
          135882.27638407997,
          59739.67185358585,
          49199.53377990249,
          62275.03429788546,
          109223.2465212248,
          32316.157810360903,
          114754.9293998854,
          123198.53559077122,
          128898.17354974191,
          129382.75784978872,
          105581.12981795883,
          122039.2296776644,
          184143.75056665827,
          151960.83831061848,
          20130.29937104478,
          212686.63735127196,
          150221.5172821462,
          136469.53013921532,
          183093.86799372276,
          153592.51998140052,
          143569.70475884905,
          125314.1293299838,
          148142.51378051835,
          96611.06679697245,
          200363.80176014907,
          207328.94545314493,
          114396.68329413648,
          52589.72311603555,
          116699.21497758816,
          110907.369093067,
          39066.96068504513,
          36558.33874088856,
          158958.0347817683,
          127506.13077630788,
          106044.5956053093,
          21311.681583779555,
          90747.66636029886,
          118393.73748238703,
          25772.807711551628,
          38713.85055569888,
          20126.930950383623,
          31411.106422495493,
          50101.39505694508,
          32894.90443478567,
          54854.60728210177,
          55236.6993228022,
          159248.2583087339,
          141540.13541101827,
          70346.62080031884,
          98758.76571632996,
          42631.35307935948,
          64927.53512239993,
          122642.12003848774,
          108859.19511652368,
          87352.92817196419,
          6515.351888412195,
          32018.69948821745,
          63213.66580260549,
          22881.729970621047,
          15749.624083931663,
          32369.650412958443,
          24593.225345299743,
          4757.983969093426,
          4085.5621249290016,
          1330.943276642027,
          4467.606324607842,
          21791.94358693096,
          3314.342107339753,
          23791.280981710814,
          19262.13529791505,
          14549.547966804748,
          27754.369666424835,
          44043.65979648573,
          75561.63889832201,
          67688.60554638045,
          53279.31758973032,
          44106.46859170799,
          20661.24390693033,
          20518.32109397756,
          34498.78297407853,
          47755.85138323082,
          52354.58932934613,
          34709.033031756706,
          8339.66664598118,
          28065.793206010072,
          56406.11568280257
         ],
         "xaxis": "x",
         "yaxis": "y"
        },
        {
         "alignmentgroup": "True",
         "bingroup": "x",
         "hovertemplate": "time=post FIP-0013<br>protocol_revenue=%{x}<br>count=%{y}<extra></extra>",
         "legendgroup": "post FIP-0013",
         "marker": {
          "color": "#EF553B",
          "pattern": {
           "shape": ""
          }
         },
         "name": "post FIP-0013",
         "offsetgroup": "post FIP-0013",
         "orientation": "v",
         "showlegend": true,
         "type": "histogram",
         "x": [
          52319.05611044269,
          34141.31407590259,
          10947.924468467423,
          1679.7669918757535,
          6432.516580189145,
          2585.318243744438,
          531.467134657036,
          349.2026321654995,
          904.3056093208904,
          656.7767106995855,
          3085.715654765941,
          5849.789069266096,
          5887.470090903174,
          6481.445639586184,
          9066.537637548949,
          7479.14975910574,
          7350.957133902233,
          8697.09969005739,
          7278.166862046414,
          7802.889652961491,
          8335.997705927846,
          9328.410152342864,
          10539.57354623263,
          19192.17960440714,
          13206.941878250924,
          7490.647561266807,
          7428.984353497146,
          7904.372622415671,
          8172.1259504255395,
          7689.724770833423,
          9025.627368383462,
          9455.002654876876,
          8178.980142069552,
          7942.443687592172,
          8994.662337412112,
          9941.47940439866,
          14578.058661481558,
          13577.755314605369,
          13104.319249476148,
          11284.683814945674,
          10872.48801896795,
          10895.096792033934,
          9933.585251320046,
          8842.159069599991,
          9169.77795075799,
          9154.729700571585,
          8884.236963373673,
          8839.607521398739,
          9682.597811967584,
          10462.629645353283,
          9546.69674643885,
          9552.412832801308,
          8645.099312070999,
          12935.85173118874,
          9583.267328621125,
          12595.370824395884,
          9854.429445673864,
          9712.176808378455,
          10537.66201993941,
          9683.100524249656,
          9469.092652878751,
          9286.352328293357,
          9116.753783257316,
          10933.838629648311,
          12250.53832514759,
          12532.553570226191,
          12559.45366286406,
          12954.742300067375,
          13547.84369660956,
          29050.14961718459,
          22463.28215451694,
          23544.0142894661,
          18588.47963552184,
          14193.03405910573,
          13847.051620759492,
          11167.274844504576,
          11548.69210897458,
          19772.068346995395,
          24662.923313496067,
          12849.193991290187,
          15232.91313999652,
          10559.667383474589,
          10173.787268109883,
          11218.68658746212,
          10521.176650187052,
          10079.034632317856,
          10894.587574727051,
          10085.541477957571,
          9619.208924706138,
          9207.940722473735,
          8972.967726545086,
          9098.638626813294,
          8771.496670272238,
          8946.96132314255,
          8651.545668228173,
          8618.825293846592,
          8773.335117545454,
          8272.084670334218,
          8312.217413624463,
          8526.950184099156,
          8282.978693822952,
          8932.140560700494,
          8715.37340706397,
          8657.108770242516,
          8622.596258516543,
          8451.847770916096,
          7760.431525262829,
          7828.508447948243,
          8172.173838869144,
          7941.662685332381,
          7914.743366797909
         ],
         "xaxis": "x",
         "yaxis": "y"
        },
        {
         "alignmentgroup": "True",
         "bingroup": "x",
         "hovertemplate": "time=post FIP-0024<br>protocol_revenue=%{x}<br>count=%{y}<extra></extra>",
         "legendgroup": "post FIP-0024",
         "marker": {
          "color": "#00cc96",
          "pattern": {
           "shape": ""
          }
         },
         "name": "post FIP-0024",
         "offsetgroup": "post FIP-0024",
         "orientation": "v",
         "showlegend": true,
         "type": "histogram",
         "x": [
          7730.225830684393,
          7695.779357431206,
          7538.68340439706,
          6493.556105758497,
          6381.399186749868,
          5839.838501962346,
          4227.895966998507,
          4832.13906041372,
          5442.247443802973,
          5434.937045124664,
          11631.200974331678,
          3826.2973796022434,
          5175.261642132547,
          3912.14905251322,
          4039.845289462641,
          11281.105685716671,
          12585.324515145932,
          12867.694898961588,
          12853.882133481486,
          11654.678734661058,
          10268.13770142964,
          12401.94962090765,
          12714.907377248495,
          12868.856253344582,
          10396.457759751454,
          10897.801978858184,
          7565.699329956763,
          5439.96914425604,
          8913.814044766186,
          13166.335683839545,
          9999.369455575672,
          10714.843945268354,
          10289.656263636682,
          6352.932097234883,
          2016.4424488543132,
          1976.3516332835736,
          4349.127430466142,
          5384.207826935824,
          5087.146426995475,
          3781.969998218494,
          5816.941207067518,
          5787.901204965025,
          7501.163295599398,
          3761.798525511478,
          4128.224077333772,
          7531.181053524334,
          12815.37148605888,
          6118.270008808049,
          3804.811178190223,
          4005.0527463762687,
          3999.829044873774,
          3851.150502658458,
          4083.89662821834,
          3819.7916467176183,
          4050.536517479511,
          4041.4057617259023,
          4315.136974037918,
          3961.1780387698977,
          4110.998220645139,
          3963.836875625819,
          4041.100160702808,
          62379.26106948989,
          4279.411300843524,
          1896.06650864494,
          3677.1132814867015,
          1569.9353397904115,
          5019.411629437438,
          9811.325717927271,
          3475.195826382534,
          3527.185411197226,
          4809.122902975493,
          9220.536520091391,
          8352.53589616792,
          9085.021734041837,
          4962.4448335435645,
          1779.913234761113,
          3890.7290617100575,
          1751.0364853255498,
          2231.198356581969,
          778.7697860623615,
          1676.9254837595947,
          2397.855538843699,
          1635.96654246638,
          1514.1741818047296,
          1012.3307223968474,
          738.9576175468069,
          816.1941744820552,
          706.6249233700327,
          589.7418559423926,
          676.4435031114209,
          1431.4813545739455,
          5946.553860836191,
          4356.621169653032,
          3468.080459520725,
          4341.164458439856,
          6111.095602346502,
          4372.500391478406,
          587.0069512367405,
          548.0340315722206,
          338.2993780099428,
          736.2347847223956,
          575.8583949754363,
          389.42939959765584,
          2465.6269935627984,
          525.7137272465701,
          730.2098262747196,
          3841.564180623912,
          3161.856964595686,
          3078.78105621158,
          4698.011423472344,
          7181.191771023759,
          3288.7733699378805,
          1673.8091943099655,
          974.9456347349663,
          367.6610432307983,
          303.8525290445569,
          231.7152076848037,
          377.4726037575082,
          269.55163996804447,
          330.7572716739969,
          250.1114416364476,
          285.07756687676715,
          318.9145667362764,
          228.42002292069424,
          510.0482943471654,
          314.6856705729999,
          449.5704516076935,
          706.389191769131,
          285.7499142580159,
          234.18258775137812,
          915.7506476219592,
          438.7869263162984,
          539.0679042114302,
          758.0548555023573,
          403.90284441868624,
          972.051514566402,
          560.0590098269864,
          1532.5766453528663,
          719.8192806645344,
          1158.2861356132307,
          1154.1903755510857,
          4003.178178607565,
          7813.109363082068,
          9497.449944364089,
          8273.294657004539,
          6813.72622672278,
          2125.730681184718,
          9843.44871235861,
          6829.131298440315,
          6926.748488948631,
          7704.729774742333,
          6559.692675270353,
          6897.540809637745,
          6939.496750670677,
          6572.143380551693,
          7479.024505835336,
          9149.28580262597,
          12857.459084904543,
          13452.888271398138,
          12193.0191204073,
          10828.975964808353,
          8337.259430745682,
          8612.518896025656,
          10549.905288698788,
          13156.96191663178,
          13886.032467268158,
          12848.027879343548,
          13197.98779303757,
          15451.754073592174,
          17112.905020735347,
          17418.429790698294,
          15337.034916600447,
          15703.68249316241,
          12929.189143138312,
          13583.464342597816,
          10098.393829349428,
          10928.812387370095,
          12695.862784981882,
          15261.595885864994,
          12014.05413791614,
          13122.618103287848,
          12572.342580448803,
          12685.798289527083,
          12497.4139057375,
          12021.443815009516,
          13115.705827380596,
          14622.84103664892,
          13789.818179918811,
          9863.456321365977,
          10121.689987022008,
          13229.762595865512,
          11852.391203993511,
          12555.126723850692,
          13761.479678769696,
          10978.269752766808,
          12772.584992708957,
          15647.499212000144,
          17981.020989509994,
          17099.919854127023,
          15510.184950685974,
          13233.084720384775,
          19684.126825108942,
          11770.908222511587,
          11559.600714317135,
          11590.86771900856,
          12705.727022658197,
          16496.2298518779,
          18061.47768887308,
          20776.850221122157,
          21977.287878046245,
          20873.95883879106,
          20625.100282522333,
          19829.654091560908,
          47192.5634792402,
          152943.98306091936,
          13672.316610147813,
          15977.506965790477,
          15633.084186935372,
          14963.606298812763,
          14999.517562804136,
          13844.989882481152,
          14899.413009646034,
          13127.350151581322,
          11865.483028670338,
          13454.623080537942,
          8902.79054376536,
          9827.360882588138,
          10046.689893164998,
          11301.0281116737,
          11506.641798971776,
          10299.242379323148,
          11461.213603292264,
          10293.65448766159,
          11290.145625816343,
          10483.826483489896,
          9838.715818824026,
          9013.643630306608,
          9415.158241482,
          11388.538062076408,
          11057.233664043057,
          10416.895359738435,
          10829.34016502734,
          9765.396804799537,
          9492.08401191903,
          9520.800350244395,
          11938.207635242128,
          11735.534287925562,
          13160.783100189445,
          17187.760058284264,
          10944.931726674444,
          14150.488110405831,
          24084.688376834463,
          13007.229587871694,
          13205.935281425944,
          12353.920839573932,
          9567.725029202826,
          7687.746717314412,
          12845.534856124592,
          9080.68761932822,
          10806.103389779728,
          12227.639914475005,
          16501.99311520624,
          10355.395911267346,
          7040.846764244001,
          4535.281036482134,
          3109.1101430018807,
          6689.068214872079,
          23477.51044470541,
          47370.60569365417,
          30273.601300157192,
          27672.137352326128,
          23498.395092244704,
          18678.95182753151,
          19480.54439635842,
          18980.68463046058,
          26787.83797456914,
          23922.0788017368,
          21377.44840939026,
          17243.06042348848,
          19152.89107253793,
          18075.4850805634,
          18651.63410155214,
          18325.955717223685,
          20183.30368708028,
          20515.28043155097,
          19332.12947881416,
          17829.400409233225,
          14650.225135905392,
          16843.03098500635,
          17546.203521964126,
          19121.967329447674,
          23936.115968141192,
          13808.742867833038,
          11149.89710813624,
          13201.10931130128,
          12811.634769944303,
          11339.72121348193,
          14047.8488362738,
          19054.838161943564,
          14339.150314305483,
          14100.343804307236,
          17204.428599967323,
          18831.018236372078,
          19093.731859953536,
          19096.376937374866,
          19987.794592638253,
          14628.285235459642,
          14376.750396920675,
          14758.302079412057,
          24249.597673485347,
          19325.97454162217,
          15670.135791075463,
          15694.606878129607,
          12842.46061979252,
          11480.681687413016,
          13539.63723347757,
          11613.06642846523,
          15876.712008440938,
          22786.91429439621,
          24242.87735776169,
          16711.681714301965,
          21319.16581379111,
          16744.473996778655,
          23966.089513290277,
          19557.791381353258,
          20238.91224002421,
          11660.09777644583,
          15735.447116352832,
          22445.53987448693,
          14196.887725035293,
          15232.781657370237,
          14536.37243474205,
          15425.979710156838,
          9204.315723578826,
          7055.949642202058,
          10125.370861845531,
          12688.258590066678,
          12619.639729655086,
          13984.149367542212,
          15747.351265551622,
          15035.807888099229,
          14702.476159970964,
          35948.356984003025,
          14357.963220244914,
          31028.13296718024,
          22157.473659795945,
          14355.630425074049,
          15563.622316067394,
          16151.275378709786,
          26525.790945209745,
          18925.302495197528,
          12158.38458496422,
          9433.11152472303,
          19130.769499995586,
          21959.66685819417,
          18751.67505500063,
          13617.514485460995,
          14925.979015174711,
          17744.628089518137,
          12795.7177189393,
          9360.896925203604,
          20856.259340522545,
          33079.28225678299,
          29337.212762574032,
          33855.669051006844
         ],
         "xaxis": "x",
         "yaxis": "y"
        }
       ],
       "layout": {
        "barmode": "relative",
        "legend": {
         "title": {
          "text": "time"
         },
         "tracegroupgap": 0
        },
        "margin": {
         "t": 60
        },
        "template": {
         "data": {
          "bar": [
           {
            "error_x": {
             "color": "#2a3f5f"
            },
            "error_y": {
             "color": "#2a3f5f"
            },
            "marker": {
             "line": {
              "color": "#E5ECF6",
              "width": 0.5
             },
             "pattern": {
              "fillmode": "overlay",
              "size": 10,
              "solidity": 0.2
             }
            },
            "type": "bar"
           }
          ],
          "barpolar": [
           {
            "marker": {
             "line": {
              "color": "#E5ECF6",
              "width": 0.5
             },
             "pattern": {
              "fillmode": "overlay",
              "size": 10,
              "solidity": 0.2
             }
            },
            "type": "barpolar"
           }
          ],
          "carpet": [
           {
            "aaxis": {
             "endlinecolor": "#2a3f5f",
             "gridcolor": "white",
             "linecolor": "white",
             "minorgridcolor": "white",
             "startlinecolor": "#2a3f5f"
            },
            "baxis": {
             "endlinecolor": "#2a3f5f",
             "gridcolor": "white",
             "linecolor": "white",
             "minorgridcolor": "white",
             "startlinecolor": "#2a3f5f"
            },
            "type": "carpet"
           }
          ],
          "choropleth": [
           {
            "colorbar": {
             "outlinewidth": 0,
             "ticks": ""
            },
            "type": "choropleth"
           }
          ],
          "contour": [
           {
            "colorbar": {
             "outlinewidth": 0,
             "ticks": ""
            },
            "colorscale": [
             [
              0,
              "#0d0887"
             ],
             [
              0.1111111111111111,
              "#46039f"
             ],
             [
              0.2222222222222222,
              "#7201a8"
             ],
             [
              0.3333333333333333,
              "#9c179e"
             ],
             [
              0.4444444444444444,
              "#bd3786"
             ],
             [
              0.5555555555555556,
              "#d8576b"
             ],
             [
              0.6666666666666666,
              "#ed7953"
             ],
             [
              0.7777777777777778,
              "#fb9f3a"
             ],
             [
              0.8888888888888888,
              "#fdca26"
             ],
             [
              1,
              "#f0f921"
             ]
            ],
            "type": "contour"
           }
          ],
          "contourcarpet": [
           {
            "colorbar": {
             "outlinewidth": 0,
             "ticks": ""
            },
            "type": "contourcarpet"
           }
          ],
          "heatmap": [
           {
            "colorbar": {
             "outlinewidth": 0,
             "ticks": ""
            },
            "colorscale": [
             [
              0,
              "#0d0887"
             ],
             [
              0.1111111111111111,
              "#46039f"
             ],
             [
              0.2222222222222222,
              "#7201a8"
             ],
             [
              0.3333333333333333,
              "#9c179e"
             ],
             [
              0.4444444444444444,
              "#bd3786"
             ],
             [
              0.5555555555555556,
              "#d8576b"
             ],
             [
              0.6666666666666666,
              "#ed7953"
             ],
             [
              0.7777777777777778,
              "#fb9f3a"
             ],
             [
              0.8888888888888888,
              "#fdca26"
             ],
             [
              1,
              "#f0f921"
             ]
            ],
            "type": "heatmap"
           }
          ],
          "heatmapgl": [
           {
            "colorbar": {
             "outlinewidth": 0,
             "ticks": ""
            },
            "colorscale": [
             [
              0,
              "#0d0887"
             ],
             [
              0.1111111111111111,
              "#46039f"
             ],
             [
              0.2222222222222222,
              "#7201a8"
             ],
             [
              0.3333333333333333,
              "#9c179e"
             ],
             [
              0.4444444444444444,
              "#bd3786"
             ],
             [
              0.5555555555555556,
              "#d8576b"
             ],
             [
              0.6666666666666666,
              "#ed7953"
             ],
             [
              0.7777777777777778,
              "#fb9f3a"
             ],
             [
              0.8888888888888888,
              "#fdca26"
             ],
             [
              1,
              "#f0f921"
             ]
            ],
            "type": "heatmapgl"
           }
          ],
          "histogram": [
           {
            "marker": {
             "pattern": {
              "fillmode": "overlay",
              "size": 10,
              "solidity": 0.2
             }
            },
            "type": "histogram"
           }
          ],
          "histogram2d": [
           {
            "colorbar": {
             "outlinewidth": 0,
             "ticks": ""
            },
            "colorscale": [
             [
              0,
              "#0d0887"
             ],
             [
              0.1111111111111111,
              "#46039f"
             ],
             [
              0.2222222222222222,
              "#7201a8"
             ],
             [
              0.3333333333333333,
              "#9c179e"
             ],
             [
              0.4444444444444444,
              "#bd3786"
             ],
             [
              0.5555555555555556,
              "#d8576b"
             ],
             [
              0.6666666666666666,
              "#ed7953"
             ],
             [
              0.7777777777777778,
              "#fb9f3a"
             ],
             [
              0.8888888888888888,
              "#fdca26"
             ],
             [
              1,
              "#f0f921"
             ]
            ],
            "type": "histogram2d"
           }
          ],
          "histogram2dcontour": [
           {
            "colorbar": {
             "outlinewidth": 0,
             "ticks": ""
            },
            "colorscale": [
             [
              0,
              "#0d0887"
             ],
             [
              0.1111111111111111,
              "#46039f"
             ],
             [
              0.2222222222222222,
              "#7201a8"
             ],
             [
              0.3333333333333333,
              "#9c179e"
             ],
             [
              0.4444444444444444,
              "#bd3786"
             ],
             [
              0.5555555555555556,
              "#d8576b"
             ],
             [
              0.6666666666666666,
              "#ed7953"
             ],
             [
              0.7777777777777778,
              "#fb9f3a"
             ],
             [
              0.8888888888888888,
              "#fdca26"
             ],
             [
              1,
              "#f0f921"
             ]
            ],
            "type": "histogram2dcontour"
           }
          ],
          "mesh3d": [
           {
            "colorbar": {
             "outlinewidth": 0,
             "ticks": ""
            },
            "type": "mesh3d"
           }
          ],
          "parcoords": [
           {
            "line": {
             "colorbar": {
              "outlinewidth": 0,
              "ticks": ""
             }
            },
            "type": "parcoords"
           }
          ],
          "pie": [
           {
            "automargin": true,
            "type": "pie"
           }
          ],
          "scatter": [
           {
            "fillpattern": {
             "fillmode": "overlay",
             "size": 10,
             "solidity": 0.2
            },
            "type": "scatter"
           }
          ],
          "scatter3d": [
           {
            "line": {
             "colorbar": {
              "outlinewidth": 0,
              "ticks": ""
             }
            },
            "marker": {
             "colorbar": {
              "outlinewidth": 0,
              "ticks": ""
             }
            },
            "type": "scatter3d"
           }
          ],
          "scattercarpet": [
           {
            "marker": {
             "colorbar": {
              "outlinewidth": 0,
              "ticks": ""
             }
            },
            "type": "scattercarpet"
           }
          ],
          "scattergeo": [
           {
            "marker": {
             "colorbar": {
              "outlinewidth": 0,
              "ticks": ""
             }
            },
            "type": "scattergeo"
           }
          ],
          "scattergl": [
           {
            "marker": {
             "colorbar": {
              "outlinewidth": 0,
              "ticks": ""
             }
            },
            "type": "scattergl"
           }
          ],
          "scattermapbox": [
           {
            "marker": {
             "colorbar": {
              "outlinewidth": 0,
              "ticks": ""
             }
            },
            "type": "scattermapbox"
           }
          ],
          "scatterpolar": [
           {
            "marker": {
             "colorbar": {
              "outlinewidth": 0,
              "ticks": ""
             }
            },
            "type": "scatterpolar"
           }
          ],
          "scatterpolargl": [
           {
            "marker": {
             "colorbar": {
              "outlinewidth": 0,
              "ticks": ""
             }
            },
            "type": "scatterpolargl"
           }
          ],
          "scatterternary": [
           {
            "marker": {
             "colorbar": {
              "outlinewidth": 0,
              "ticks": ""
             }
            },
            "type": "scatterternary"
           }
          ],
          "surface": [
           {
            "colorbar": {
             "outlinewidth": 0,
             "ticks": ""
            },
            "colorscale": [
             [
              0,
              "#0d0887"
             ],
             [
              0.1111111111111111,
              "#46039f"
             ],
             [
              0.2222222222222222,
              "#7201a8"
             ],
             [
              0.3333333333333333,
              "#9c179e"
             ],
             [
              0.4444444444444444,
              "#bd3786"
             ],
             [
              0.5555555555555556,
              "#d8576b"
             ],
             [
              0.6666666666666666,
              "#ed7953"
             ],
             [
              0.7777777777777778,
              "#fb9f3a"
             ],
             [
              0.8888888888888888,
              "#fdca26"
             ],
             [
              1,
              "#f0f921"
             ]
            ],
            "type": "surface"
           }
          ],
          "table": [
           {
            "cells": {
             "fill": {
              "color": "#EBF0F8"
             },
             "line": {
              "color": "white"
             }
            },
            "header": {
             "fill": {
              "color": "#C8D4E3"
             },
             "line": {
              "color": "white"
             }
            },
            "type": "table"
           }
          ]
         },
         "layout": {
          "annotationdefaults": {
           "arrowcolor": "#2a3f5f",
           "arrowhead": 0,
           "arrowwidth": 1
          },
          "autotypenumbers": "strict",
          "coloraxis": {
           "colorbar": {
            "outlinewidth": 0,
            "ticks": ""
           }
          },
          "colorscale": {
           "diverging": [
            [
             0,
             "#8e0152"
            ],
            [
             0.1,
             "#c51b7d"
            ],
            [
             0.2,
             "#de77ae"
            ],
            [
             0.3,
             "#f1b6da"
            ],
            [
             0.4,
             "#fde0ef"
            ],
            [
             0.5,
             "#f7f7f7"
            ],
            [
             0.6,
             "#e6f5d0"
            ],
            [
             0.7,
             "#b8e186"
            ],
            [
             0.8,
             "#7fbc41"
            ],
            [
             0.9,
             "#4d9221"
            ],
            [
             1,
             "#276419"
            ]
           ],
           "sequential": [
            [
             0,
             "#0d0887"
            ],
            [
             0.1111111111111111,
             "#46039f"
            ],
            [
             0.2222222222222222,
             "#7201a8"
            ],
            [
             0.3333333333333333,
             "#9c179e"
            ],
            [
             0.4444444444444444,
             "#bd3786"
            ],
            [
             0.5555555555555556,
             "#d8576b"
            ],
            [
             0.6666666666666666,
             "#ed7953"
            ],
            [
             0.7777777777777778,
             "#fb9f3a"
            ],
            [
             0.8888888888888888,
             "#fdca26"
            ],
            [
             1,
             "#f0f921"
            ]
           ],
           "sequentialminus": [
            [
             0,
             "#0d0887"
            ],
            [
             0.1111111111111111,
             "#46039f"
            ],
            [
             0.2222222222222222,
             "#7201a8"
            ],
            [
             0.3333333333333333,
             "#9c179e"
            ],
            [
             0.4444444444444444,
             "#bd3786"
            ],
            [
             0.5555555555555556,
             "#d8576b"
            ],
            [
             0.6666666666666666,
             "#ed7953"
            ],
            [
             0.7777777777777778,
             "#fb9f3a"
            ],
            [
             0.8888888888888888,
             "#fdca26"
            ],
            [
             1,
             "#f0f921"
            ]
           ]
          },
          "colorway": [
           "#636efa",
           "#EF553B",
           "#00cc96",
           "#ab63fa",
           "#FFA15A",
           "#19d3f3",
           "#FF6692",
           "#B6E880",
           "#FF97FF",
           "#FECB52"
          ],
          "font": {
           "color": "#2a3f5f"
          },
          "geo": {
           "bgcolor": "white",
           "lakecolor": "white",
           "landcolor": "#E5ECF6",
           "showlakes": true,
           "showland": true,
           "subunitcolor": "white"
          },
          "hoverlabel": {
           "align": "left"
          },
          "hovermode": "closest",
          "mapbox": {
           "style": "light"
          },
          "paper_bgcolor": "white",
          "plot_bgcolor": "#E5ECF6",
          "polar": {
           "angularaxis": {
            "gridcolor": "white",
            "linecolor": "white",
            "ticks": ""
           },
           "bgcolor": "#E5ECF6",
           "radialaxis": {
            "gridcolor": "white",
            "linecolor": "white",
            "ticks": ""
           }
          },
          "scene": {
           "xaxis": {
            "backgroundcolor": "#E5ECF6",
            "gridcolor": "white",
            "gridwidth": 2,
            "linecolor": "white",
            "showbackground": true,
            "ticks": "",
            "zerolinecolor": "white"
           },
           "yaxis": {
            "backgroundcolor": "#E5ECF6",
            "gridcolor": "white",
            "gridwidth": 2,
            "linecolor": "white",
            "showbackground": true,
            "ticks": "",
            "zerolinecolor": "white"
           },
           "zaxis": {
            "backgroundcolor": "#E5ECF6",
            "gridcolor": "white",
            "gridwidth": 2,
            "linecolor": "white",
            "showbackground": true,
            "ticks": "",
            "zerolinecolor": "white"
           }
          },
          "shapedefaults": {
           "line": {
            "color": "#2a3f5f"
           }
          },
          "ternary": {
           "aaxis": {
            "gridcolor": "white",
            "linecolor": "white",
            "ticks": ""
           },
           "baxis": {
            "gridcolor": "white",
            "linecolor": "white",
            "ticks": ""
           },
           "bgcolor": "#E5ECF6",
           "caxis": {
            "gridcolor": "white",
            "linecolor": "white",
            "ticks": ""
           }
          },
          "title": {
           "x": 0.05
          },
          "xaxis": {
           "automargin": true,
           "gridcolor": "white",
           "linecolor": "white",
           "ticks": "",
           "title": {
            "standoff": 15
           },
           "zerolinecolor": "white",
           "zerolinewidth": 2
          },
          "yaxis": {
           "automargin": true,
           "gridcolor": "white",
           "linecolor": "white",
           "ticks": "",
           "title": {
            "standoff": 15
           },
           "zerolinecolor": "white",
           "zerolinewidth": 2
          }
         }
        },
        "xaxis": {
         "anchor": "y",
         "domain": [
          0,
          1
         ],
         "title": {
          "text": "protocol_revenue"
         }
        },
        "yaxis": {
         "anchor": "x",
         "domain": [
          0,
          1
         ],
         "title": {
          "text": "count"
         }
        }
       }
      }
     },
     "metadata": {},
     "output_type": "display_data"
    },
    {
     "data": {
      "text/plain": [
       "time\n",
       "post FIP-0013     4.007571e+07\n",
       "post FIP-0024     1.190309e+08\n",
       "pre-hyperdrive    4.190421e+09\n",
       "Name: protocol_revenue, dtype: float64"
      ]
     },
     "execution_count": 10,
     "metadata": {},
     "output_type": "execute_result"
    }
   ],
   "source": [
    "import plotly.express as px\n",
    "fig = px.box(df, x=\"time\", y=\"protocol_revenue\",color='time')\n",
    "fig.show()\n",
    "fig = px.histogram(df,  x=\"protocol_revenue\",color='time')\n",
    "fig.show()\n",
    "\n",
    "df.groupby(by='time')['protocol_revenue'].var()\n"
   ]
  },
  {
   "cell_type": "markdown",
   "metadata": {},
   "source": [
    "As we can see, there is a clear difference between the revenue in the pre-hyper drive days and the one after that. This is confirmed by the following Kruskal ANOVA test. AS a reminer, recall that such a test compares the following two hypothesis:\n",
    "\n",
    "\n",
    "$H_0$: all  samples come from the same distribution.\n",
    "\n",
    "$H_a$: Not $H_0$."
   ]
  },
  {
   "cell_type": "code",
   "execution_count": 12,
   "metadata": {},
   "outputs": [
    {
     "data": {
      "text/plain": [
       "KruskalResult(statistic=293.2963573040406, pvalue=2.0488267240975284e-64)"
      ]
     },
     "execution_count": 12,
     "metadata": {},
     "output_type": "execute_result"
    }
   ],
   "source": [
    "from scipy import stats\n",
    "stats.kruskal(df_pre['protocol_revenue'], df_post_13['protocol_revenue'], df_post_24['protocol_revenue'])\n",
    "\n"
   ]
  },
  {
   "cell_type": "markdown",
   "metadata": {},
   "source": [
    "Performing the same test for network revenue post FIP0013 and before FIP0024 and post FIP0024 yields the results below."
   ]
  },
  {
   "cell_type": "code",
   "execution_count": 13,
   "metadata": {},
   "outputs": [
    {
     "data": {
      "text/plain": [
       "KruskalResult(statistic=1.4204887234095622, pvalue=0.23332297835940247)"
      ]
     },
     "execution_count": 13,
     "metadata": {},
     "output_type": "execute_result"
    }
   ],
   "source": [
    "from scipy import stats\n",
    "stats.kruskal(df_post_13['protocol_revenue'], df_post_24['protocol_revenue'])\n"
   ]
  },
  {
   "cell_type": "markdown",
   "metadata": {},
   "source": [
    "Given that the p-value of the test is fairly large, one could not reject the null hypothesis in favor of the alternative one, at any confidence level beyond 77%.m "
   ]
  },
  {
   "cell_type": "markdown",
   "metadata": {},
   "source": []
  }
 ],
 "metadata": {
  "kernelspec": {
   "display_name": "Python 3.9.0 ('cel')",
   "language": "python",
   "name": "python3"
  },
  "language_info": {
   "codemirror_mode": {
    "name": "ipython",
    "version": 3
   },
   "file_extension": ".py",
   "mimetype": "text/x-python",
   "name": "python",
   "nbconvert_exporter": "python",
   "pygments_lexer": "ipython3",
   "version": "3.9.13"
  },
  "orig_nbformat": 4,
  "vscode": {
   "interpreter": {
    "hash": "55835bb619d271fc4451ab19ed9521b8f49ec2bf938101202092f06185415c81"
   }
  }
 },
 "nbformat": 4,
 "nbformat_minor": 2
}
