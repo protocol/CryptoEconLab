{
 "cells": [
  {
   "cell_type": "code",
   "execution_count": 1,
   "id": "76b15f1f",
   "metadata": {},
   "outputs": [],
   "source": [
    "%load_ext autoreload\n",
    "%autoreload 2\n",
    "\n",
    "from typing import Union\n",
    "\n",
    "import numpy as np\n",
    "import pandas as pd\n",
    "import matplotlib.pyplot as plt\n",
    "import seaborn as sns\n",
    "import requests\n",
    "import datetime\n",
    "import matplotlib.dates as mdates\n",
    "\n",
    "from datetime import timedelta, date\n",
    "import time\n",
    "import os\n",
    "\n",
    "from tqdm.auto import tqdm\n",
    "\n",
    "import warnings\n",
    "warnings.filterwarnings('ignore')\n",
    "\n",
    "from jax import random\n",
    "import numpyro\n",
    "import numpyro.distributions as dist\n",
    "\n",
    "import scenario_generator.mcmc_forecast as mcmc\n",
    "import scenario_generator.utils as u\n",
    "\n",
    "from mechafil.data import get_historical_network_stats, get_sector_expiration_stats\n",
    "from mechafil.power import forecast_power_stats, build_full_power_stats_df, scalar_or_vector_to_vector\n",
    "from mechafil.vesting import compute_vesting_trajectory_df\n",
    "from mechafil.minting import compute_minting_trajectory_df\n",
    "from mechafil.supply import forecast_circulating_supply_df"
   ]
  },
  {
   "cell_type": "code",
   "execution_count": 12,
   "id": "3df3eb71",
   "metadata": {},
   "outputs": [
    {
     "name": "stdout",
     "output_type": "stream",
     "text": [
      "2023-01-01\n",
      "2023-02-14\n",
      "2026-02-13\n"
     ]
    }
   ],
   "source": [
    "NDEVICES = 2 \n",
    "numpyro.set_host_device_count(NDEVICES)\n",
    "\n",
    "# Data starts in filecoin_daily_stats 2021-03-15\n",
    "# genesis block was in 2020-08-24\n",
    "# Main net launch was in 2020-10-15\n",
    "\n",
    "today = datetime.date(2023, 2, 14) \n",
    "DATA_LAG_DAYS = 0\n",
    "current_date = today - datetime.timedelta(days=(DATA_LAG_DAYS))\n",
    "current_day = (current_date - datetime.date(2020, 10, 15)).days\n",
    "\n",
    "start_date = datetime.date(2023, 1, 1)\n",
    "start_day = (start_date - datetime.date(2020, 10, 15)).days\n",
    "\n",
    "# Forecast is one year ahead from today\n",
    "forecast_lenght = 365 * 3\n",
    "end_day = current_day + forecast_lenght\n",
    "end_date = current_date + datetime.timedelta(days=forecast_lenght)\n",
    "\n",
    "print(start_date)\n",
    "print(current_date)\n",
    "print(end_date)\n",
    "duration = 365 # sector duration\n",
    "\n",
    "# handy constants\n",
    "EIB = 2 ** 60\n",
    "PIB = 2 ** 50\n",
    "TIB = 2 ** 40\n",
    "GIB = 2 ** 30\n",
    "SECTOR_SIZE = 32 * GIB\n",
    "EPOCH_PER_DAY = 2880\n",
    "\n",
    "class ArrayWrapperObj:\n",
    "    def __init__(self, arr):\n",
    "        self.arr = arr\n",
    "    def get(self):\n",
    "        return self.arr"
   ]
  },
  {
   "cell_type": "code",
   "execution_count": null,
   "id": "1db53448",
   "metadata": {},
   "outputs": [],
   "source": []
  }
 ],
 "metadata": {
  "kernelspec": {
   "display_name": "Python CEL",
   "language": "python",
   "name": "cel"
  },
  "language_info": {
   "codemirror_mode": {
    "name": "ipython",
    "version": 3
   },
   "file_extension": ".py",
   "mimetype": "text/x-python",
   "name": "python",
   "nbconvert_exporter": "python",
   "pygments_lexer": "ipython3",
   "version": "3.9.7"
  }
 },
 "nbformat": 4,
 "nbformat_minor": 5
}
