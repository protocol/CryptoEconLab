{
 "cells": [
  {
   "cell_type": "code",
   "execution_count": 1,
   "id": "898a00fc-cf6f-4409-85cf-c3a43cbe80ab",
   "metadata": {},
   "outputs": [],
   "source": [
    "%load_ext autoreload\n",
    "%autoreload 2\n",
    "\n",
    "import numpy as np\n",
    "import pandas as pd\n",
    "import matplotlib.pyplot as plt\n",
    "import seaborn as sns\n",
    "import requests\n",
    "import datetime\n",
    "\n",
    "from datetime import timedelta, date\n",
    "import time\n",
    "import os\n",
    "import numbers\n",
    "\n",
    "import warnings\n",
    "warnings.filterwarnings('ignore')"
   ]
  },
  {
   "cell_type": "code",
   "execution_count": 7,
   "id": "ae4cdd1e-0ced-4041-9721-5a9c0c9329fa",
   "metadata": {},
   "outputs": [],
   "source": [
    "code_dir = os.path.realpath(os.path.join(os.getcwd(), \"../../../filecoin-mecha-twin\"))\n",
    "import sys\n",
    "sys.path.append(code_dir)\n",
    "\n",
    "import scenario_generator.curated as curated\n",
    "import scenario_generator.mcmc_forecast as mcmc\n",
    "import scenario_generator.utils as u\n",
    "\n",
    "from mechafil.data import get_historical_network_stats, get_sector_expiration_stats, \\\n",
    "    query_starboard_sector_expirations, get_cum_capped_qa_power\n",
    "from mechafil.power import forecast_power_stats, build_full_power_stats_df\n",
    "from mechafil.vesting import compute_vesting_trajectory_df\n",
    "from mechafil.minting import compute_minting_trajectory_df, \\\n",
    "    network_time, cum_baseline_reward\n",
    "from mechafil.supply import forecast_circulating_supply_df"
   ]
  },
  {
   "cell_type": "markdown",
   "id": "908e4a04-5ea7-4fc4-a65c-ad1b0f6af7fe",
   "metadata": {},
   "source": [
    "## 1. Parameters and other variables"
   ]
  },
  {
   "cell_type": "code",
   "execution_count": 4,
   "id": "6ca2c892-64d1-4fba-b62e-191d03eaf925",
   "metadata": {},
   "outputs": [
    {
     "name": "stdout",
     "output_type": "stream",
     "text": [
      "2021-03-15\n",
      "2022-11-20\n",
      "2024-11-19\n"
     ]
    }
   ],
   "source": [
    "# Data starts in filecoin_daily_stats 2021-03-15\n",
    "# genesis block was in 2020-08-24\n",
    "# Main net launch was in 2020-10-15\n",
    "\n",
    "SIM_START_LAG_DAYS = 10\n",
    "# set the simulation start date\n",
    "current_date = datetime.datetime.now().date() - datetime.timedelta(days=SIM_START_LAG_DAYS)\n",
    "current_day = (current_date - datetime.date(2020, 10, 15)).days\n",
    "\n",
    "start_date = datetime.date(2021, 3, 15)\n",
    "start_day = (start_date - datetime.date(2020, 10, 15)).days\n",
    "\n",
    "# Forecast is one year ahead from today\n",
    "forecast_lenght = 365*2\n",
    "end_day = current_day + forecast_lenght\n",
    "end_date = current_date + datetime.timedelta(days=forecast_lenght)\n",
    "\n",
    "print(start_date)\n",
    "print(current_date)\n",
    "print(end_date)"
   ]
  },
  {
   "cell_type": "markdown",
   "id": "05c1f393-5876-4589-91ec-ea9659b6c87a",
   "metadata": {
    "tags": []
   },
   "source": [
    "## 2. Input data\n",
    "\n",
    "#### Sector scheduled expirations"
   ]
  },
  {
   "cell_type": "code",
   "execution_count": 5,
   "id": "80d83e5f-b82c-4799-8b7b-bc8030f59db8",
   "metadata": {},
   "outputs": [],
   "source": [
    "res = get_sector_expiration_stats(start_date, current_date,end_date)\n",
    "\n",
    "rb_known_scheduled_expire_vec = res[0]\n",
    "qa_known_scheduled_expire_vec = res[1]\n",
    "known_scheduled_pledge_release_full_vec = res[2]"
   ]
  },
  {
   "cell_type": "markdown",
   "id": "bc605657-df10-4e50-b711-13d91d6c51c9",
   "metadata": {},
   "source": [
    "#### Daily network stats"
   ]
  },
  {
   "cell_type": "code",
   "execution_count": 6,
   "id": "5714bc61-1f4d-4017-99f8-71f118aec068",
   "metadata": {},
   "outputs": [
    {
     "data": {
      "text/plain": [
       "circulating_fil               393995877.934342\n",
       "mined_fil                     239034785.684966\n",
       "vested_fil                    306857607.124712\n",
       "locked_fil                    135288055.073639\n",
       "burnt_fil                       33675078.76347\n",
       "date                                2022-11-20\n",
       "total_raw_power_eib                  15.744799\n",
       "total_qa_power_eib                   18.846074\n",
       "day_onboarded_rb_power_pib            7.623535\n",
       "day_onboarded_qa_power_pib           29.874701\n",
       "day_renewed_qa_power_pib             37.204064\n",
       "Name: 614, dtype: object"
      ]
     },
     "execution_count": 6,
     "metadata": {},
     "output_type": "execute_result"
    }
   ],
   "source": [
    "fil_stats_df = get_historical_network_stats(start_date,current_date,end_date)\n",
    "\n",
    "current_day_stats = fil_stats_df[fil_stats_df[\"date\"] >= current_date].iloc[0]\n",
    "current_day_stats"
   ]
  },
  {
   "cell_type": "markdown",
   "id": "d563708a",
   "metadata": {},
   "source": [
    "## 3. Choose Power Forecasting Scenario"
   ]
  },
  {
   "cell_type": "code",
   "execution_count": 74,
   "id": "9121a31b",
   "metadata": {},
   "outputs": [],
   "source": [
    "scenario = 'optimistic-smooth'\n",
    "\n",
    "if scenario == 'optimistic':\n",
    "    scenario_params = curated.forecast_optimistic_scenario(forecast_lenght)\n",
    "    plt_title_str = \"Optimistic Scenario\"\n",
    "elif scenario == 'optimistic-smooth':\n",
    "    scenario_params = curated.forecast_optimistic_scenario_smooth(forecast_lenght)\n",
    "    plt_title_str = \"Optimistic Scenario - Smooth Increase\"\n",
    "elif scenario == 'pessimistic':\n",
    "    scenario_params = curated.forecast_pessimistic_scenario(forecast_lenght)\n",
    "    plt_title_str = \"Pessimistic Scenario\"\n",
    "elif scenario == 'pessimistic-smooth':\n",
    "    scenario_params = curated.forecast_pessimistic_scenario_smooth(forecast_lenght)\n",
    "    plt_title_str = \"Pessimistic Scenario - Smooth Decrease\"\n",
    "else:\n",
    "    raise ValueError(\"Unsupported scenario!\")"
   ]
  },
  {
   "cell_type": "code",
   "execution_count": 75,
   "id": "256666c1",
   "metadata": {},
   "outputs": [],
   "source": [
    "_, historical_renewal_rate = u.get_historical_renewal_rate(start_date, current_date)"
   ]
  },
  {
   "cell_type": "code",
   "execution_count": 76,
   "id": "0c0a19b0",
   "metadata": {},
   "outputs": [],
   "source": [
    "# finalize inputs to the power forecasting module\n",
    "renewal_rate_vec_pred = scenario_params['renewal_rate']\n",
    "renewal_rate_vec = np.concatenate([historical_renewal_rate, renewal_rate_vec_pred])    \n",
    "rb_onboard_power_pred = scenario_params['rb_onboard_power']\n",
    "fil_plus_rate_pred = scenario_params['filplus_rate']\n",
    "\n",
    "duration = 360"
   ]
  },
  {
   "cell_type": "markdown",
   "id": "7293c233-9d1a-4e1c-b12f-08678f9183fb",
   "metadata": {
    "tags": []
   },
   "source": [
    "## 2. Forecast power stats"
   ]
  },
  {
   "cell_type": "code",
   "execution_count": 77,
   "id": "44ae6185-e4c3-46b6-b044-71c5e0756e04",
   "metadata": {},
   "outputs": [],
   "source": [
    "rb_power_zero = current_day_stats[\"total_raw_power_eib\"] * 1024.0\n",
    "qa_power_zero = current_day_stats[\"total_qa_power_eib\"] * 1024.0\n",
    "\n",
    "rb_power_df, qa_power_df = forecast_power_stats(\n",
    "    rb_power_zero,\n",
    "    qa_power_zero,\n",
    "    rb_onboard_power_pred,\n",
    "    rb_known_scheduled_expire_vec,\n",
    "    qa_known_scheduled_expire_vec,\n",
    "    renewal_rate_vec[-int(forecast_lenght):],\n",
    "    fil_plus_rate_pred,\n",
    "    duration,\n",
    "    forecast_lenght\n",
    ")\n",
    "rb_power_df[\"total_raw_power_eib\"] = rb_power_df[\"total_power\"]/1024.0\n",
    "qa_power_df[\"total_qa_power_eib\"] = qa_power_df[\"total_power\"]/1024.0"
   ]
  },
  {
   "cell_type": "code",
   "execution_count": 78,
   "id": "d1a4ef6d-78b1-4f3f-a49d-03624ffbb0c3",
   "metadata": {},
   "outputs": [],
   "source": [
    "power_df = build_full_power_stats_df(\n",
    "    fil_stats_df,\n",
    "    rb_power_df,\n",
    "    qa_power_df,\n",
    "    start_date,\n",
    "    current_date,\n",
    "    end_date,\n",
    ")"
   ]
  },
  {
   "cell_type": "markdown",
   "id": "cb6aacb9-c350-444e-b1a3-81ae6dc1d62e",
   "metadata": {
    "tags": []
   },
   "source": [
    "## 3. Forecast Vesting"
   ]
  },
  {
   "cell_type": "code",
   "execution_count": 79,
   "id": "3a85f5b6-50e5-4309-9550-20a7bf4b312b",
   "metadata": {},
   "outputs": [],
   "source": [
    "vest_df = compute_vesting_trajectory_df(start_date, end_date)"
   ]
  },
  {
   "cell_type": "markdown",
   "id": "a750caf6-7a6f-475d-b51c-268973627a5c",
   "metadata": {
    "tags": []
   },
   "source": [
    "## 4. Forecast minting stats and baseline"
   ]
  },
  {
   "cell_type": "code",
   "execution_count": 80,
   "id": "30396ae9-f3e8-4d93-9cc4-f4f05a1f8cdc",
   "metadata": {},
   "outputs": [],
   "source": [
    "rb_total_power_eib = power_df[\"total_raw_power_eib\"].values\n",
    "qa_total_power_eib = power_df[\"total_qa_power_eib\"].values\n",
    "qa_day_onboarded_power_pib = power_df[\"day_onboarded_qa_power_pib\"].values\n",
    "qa_day_renewed_power_pib = power_df[\"day_renewed_qa_power_pib\"].values\n",
    "\n",
    "mint_df = compute_minting_trajectory_df(\n",
    "    start_date,\n",
    "    end_date,\n",
    "    rb_total_power_eib,\n",
    "    qa_total_power_eib,\n",
    "    qa_day_onboarded_power_pib,\n",
    "    qa_day_renewed_power_pib,\n",
    ")"
   ]
  },
  {
   "cell_type": "markdown",
   "id": "793ebaa0",
   "metadata": {},
   "source": [
    "## 5. Baseline crossing"
   ]
  },
  {
   "cell_type": "code",
   "execution_count": 81,
   "id": "30fbf9f0",
   "metadata": {},
   "outputs": [],
   "source": [
    "assert len(power_df) == len(mint_df)\n",
    "assert power_df.iloc[0]['date'] == mint_df.iloc[0]['date']\n",
    "\n",
    "# BASELINE_B0 = 2.88888888 # should be this\n",
    "BASELINE_B0 = 2.7636 # this value is required to match sentinel\n",
    "BASELINE_R = np.log(2) / (2880*365) # 1_051_200 in eopchs\n",
    "EPOCH_PER_DAY = 2880\n",
    "def baseline_storage(epoch: float)->float:\n",
    "    return BASELINE_B0 * np.exp(BASELINE_R * epoch)\n",
    "\n",
    "baseline_df = pd.DataFrame({\n",
    "    'date': mint_df.date,\n",
    "    'baseline_storage': baseline_storage(mint_df.days * EPOCH_PER_DAY)}\n",
    ")\n",
    "\n",
    "rb_crossing_above = power_df[power_df[\"total_raw_power_eib\"] > baseline_df['baseline_storage']][\"date\"].iloc[0]\n",
    "power_df_afterfirstcrossing = power_df[power_df['date'] > pd.to_datetime(rb_crossing_above)]\n",
    "baseline_df_afterfirstcrossing = baseline_df[baseline_df['date'] > pd.to_datetime(rb_crossing_above)]\n",
    "rb_crossing_below_df = power_df_afterfirstcrossing[power_df_afterfirstcrossing[\"total_raw_power_eib\"] < baseline_df_afterfirstcrossing[\"baseline_storage\"]]\n",
    "if len(rb_crossing_below_df) > 0:\n",
    "    rb_crossing_below = rb_crossing_below_df[\"date\"].iloc[0]\n",
    "else:\n",
    "    rb_crossing_below = None\n",
    "qa_crossing_below_df = power_df_afterfirstcrossing[power_df_afterfirstcrossing[\"total_qa_power_eib\"] < baseline_df_afterfirstcrossing[\"baseline_storage\"]]\n",
    "if len(qa_crossing_below_df) > 0:\n",
    "    qa_crossing_below = qa_crossing_below_df[\"date\"].iloc[0]\n",
    "else:\n",
    "    qa_crossing_below = None"
   ]
  },
  {
   "cell_type": "code",
   "execution_count": 82,
   "id": "bf8daa6f",
   "metadata": {},
   "outputs": [
    {
     "data": {
      "image/png": "[encoded data removed]",
      "text/plain": [
       "<Figure size 800x500 with 3 Axes>"
      ]
     },
     "metadata": {},
     "output_type": "display_data"
    }
   ],
   "source": [
    "plt.figure(figsize=(8,5))\n",
    "grid = plt.GridSpec(3, 4, wspace=1, hspace=1)\n",
    "\n",
    "plt.subplot(grid[0:2, 0:4])\n",
    "plt.plot(power_df.date, power_df.total_raw_power_eib, label='RBP')\n",
    "# plt.plot(power_df.date, power_df.total_qa_power_eib, label='QAP')\n",
    "plt.plot(mint_df.date, baseline_storage(mint_df.days * EPOCH_PER_DAY), label='Baseline')\n",
    "plt.axvline(current_date, color='k', linestyle=':', label='Forecast/Scenario')\n",
    "if rb_crossing_below is not None:\n",
    "    plt.axvline(rb_crossing_below, linestyle='--', lw=0.75, label='RBP Crossing \\n %s' % (rb_crossing_below,))\n",
    "plt.xticks(rotation=30)\n",
    "plt.legend(loc='upper left')\n",
    "plt.ylabel('Network Power [EiB]')\n",
    "\n",
    "t_cur = power_df[power_df['date'] >= current_date]\n",
    "plt.subplot(grid[2,0:2])\n",
    "plt.plot(fil_stats_df.date, historical_renewal_rate)\n",
    "plt.plot(t_cur.date, renewal_rate_vec[len(historical_renewal_rate):], color='k', linestyle=':')\n",
    "plt.xticks(rotation=30)\n",
    "plt.title('Renewal Rate')\n",
    "\n",
    "plt.subplot(grid[2,2:4])\n",
    "plt.plot(fil_stats_df.date, fil_stats_df['day_onboarded_rb_power_pib'])\n",
    "if isinstance(rb_onboard_power_pred, numbers.Number):\n",
    "    plt.plot(t_cur.date, np.ones(forecast_lenght)*rb_onboard_power_pred, color='k', linestyle=':')\n",
    "else:\n",
    "    plt.plot(t_cur.date, rb_onboard_power_pred, color='k', linestyle=':')\n",
    "plt.title('RB Onboard Power')\n",
    "plt.xticks(rotation=30)\n",
    "\n",
    "plt.suptitle(plt_title_str)\n",
    "plt.tight_layout()"
   ]
  },
  {
   "cell_type": "code",
   "execution_count": null,
   "id": "e692be34",
   "metadata": {},
   "outputs": [],
   "source": []
  }
 ],
 "metadata": {
  "kernelspec": {
   "display_name": "Python 3 (ipykernel)",
   "language": "python",
   "name": "python3"
  },
  "language_info": {
   "codemirror_mode": {
    "name": "ipython",
    "version": 3
   },
   "file_extension": ".py",
   "mimetype": "text/x-python",
   "name": "python",
   "nbconvert_exporter": "python",
   "pygments_lexer": "ipython3",
   "version": "3.10.8"
  },
  "vscode": {
   "interpreter": {
    "hash": "31f2aee4e71d21fbe5cf8b01ff0e069b9275f58929596ceb00d14d90e3e16cd6"
   }
  }
 },
 "nbformat": 4,
 "nbformat_minor": 5
}
