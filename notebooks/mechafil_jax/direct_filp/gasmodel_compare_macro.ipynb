{
 "cells": [
  {
   "cell_type": "markdown",
   "id": "9ccf1ba3-3c70-42d6-bd2d-deb84d2cfb24",
   "metadata": {},
   "source": [
    "## Introduction\n",
    "In this notebook, we show an example of how to integrate the gas models into mechaFIL."
   ]
  },
  {
   "cell_type": "code",
   "execution_count": 1,
   "id": "3ad96dd2-6fc3-421b-bfd3-f9907873a8fa",
   "metadata": {},
   "outputs": [],
   "source": [
    "%load_ext autoreload\n",
    "%autoreload 2\n",
    "%matplotlib inline"
   ]
  },
  {
   "cell_type": "code",
   "execution_count": 2,
   "id": "26530be3-06b9-453a-8d40-6d5bcca64f6d",
   "metadata": {},
   "outputs": [],
   "source": [
    "import os\n",
    "from datetime import date, timedelta\n",
    "\n",
    "import matplotlib.pyplot as plt\n",
    "import matplotlib as mpl\n",
    "from mpl_toolkits.axes_grid1 import make_axes_locatable\n",
    "import seaborn as sns\n",
    "from tqdm.auto import tqdm\n",
    "\n",
    "import numpy as np\n",
    "import jax.numpy as jnp\n",
    "import pandas as pd\n",
    "\n",
    "import mechafil.data as mecha_data\n",
    "import mechafil.sim as np_sim\n",
    "\n",
    "import mechafil_jax.data as data\n",
    "import mechafil_jax.sim as sim\n",
    "import mechafil_jax.constants as C\n",
    "import mechafil_jax.minting as minting\n",
    "import mechafil_jax.date_utils as date_utils\n",
    "import mechafil_jax.power as power\n",
    "\n",
    "import scenario_generator.utils as u\n",
    "import scenario_generator.curated as curated\n",
    "\n",
    "import cel_utils.disk_utils as du\n",
    "\n",
    "import gas_models"
   ]
  },
  {
   "cell_type": "code",
   "execution_count": 3,
   "id": "65c2b1c9-4caf-403a-b202-b89ff4d6ba51",
   "metadata": {},
   "outputs": [],
   "source": [
    "save_dir = '/Users/kiran/Documents/direct_filp'\n",
    "cache_dir = '/Users/kiran/Documents/direct_filp/cache'\n",
    "os.makedirs(save_dir, exist_ok=True)\n",
    "os.makedirs(cache_dir, exist_ok=True)"
   ]
  },
  {
   "cell_type": "code",
   "execution_count": 4,
   "id": "44eac20d-1c7d-4b16-9d4f-0b281c983fc9",
   "metadata": {},
   "outputs": [
    {
     "name": "stdout",
     "output_type": "stream",
     "text": [
      "2021-09-01 2023-09-22 2026-09-21\n"
     ]
    }
   ],
   "source": [
    "token = '/Users/kiran/code/filecoin-mecha-twin/kiran_spacescope_auth.json'\n",
    "\n",
    "start_date = date(2021, 9, 1)  # reduce locking bias by starting sooner\n",
    "#current_date = date.today() - timedelta(days=3)\n",
    "current_date = date(2023, 9, 22)  # fix it so that the NB is reproducible\n",
    "forecast_length = 3*365\n",
    "end_date = current_date + timedelta(days=forecast_length)\n",
    "print(start_date, current_date, end_date)\n"
   ]
  },
  {
   "cell_type": "code",
   "execution_count": 5,
   "id": "31d96759-49ad-43eb-859b-7bfab126683d",
   "metadata": {},
   "outputs": [],
   "source": [
    "@du.cache_data(directory=cache_dir)\n",
    "def get_offline_mechafil_data():\n",
    "    offline_data = data.get_simulation_data(token, start_date, current_date, end_date)\n",
    "    return {'offline_data': offline_data}\n",
    "d = get_offline_mechafil_data()\n",
    "globals().update(d)"
   ]
  },
  {
   "cell_type": "markdown",
   "id": "fa384143-6ff1-4601-a1c6-9d7e62c2f21f",
   "metadata": {},
   "source": [
    "## Status-Quo simulation\n",
    "Here, we run mechafil w/ the current gas model, which just burns the average amount of historical gas burned, every day."
   ]
  },
  {
   "cell_type": "code",
   "execution_count": 6,
   "id": "1c83a4be-2f60-4b69-8d76-fbc151f1cfa1",
   "metadata": {},
   "outputs": [],
   "source": [
    "lock_target = 0.3\n",
    "sector_duration=360\n",
    "\n",
    "rbp = jnp.ones(forecast_length)*6\n",
    "rr = jnp.ones(forecast_length)*0.8\n",
    "fpr = jnp.ones(forecast_length)*0.8"
   ]
  },
  {
   "cell_type": "code",
   "execution_count": 7,
   "id": "b0de084b-1264-485b-974e-bb38d121c75a",
   "metadata": {},
   "outputs": [],
   "source": [
    "# run status-quo (from gas perspective) simulation\n",
    "statusquo_results = sim.run_sim(\n",
    "    rbp,\n",
    "    rr,\n",
    "    fpr,\n",
    "    lock_target,\n",
    "\n",
    "    start_date,\n",
    "    current_date,\n",
    "    forecast_length,\n",
    "    sector_duration,\n",
    "    offline_data\n",
    ")"
   ]
  },
  {
   "cell_type": "markdown",
   "id": "56740b89-82c7-4e9c-91ec-386238b7beb7",
   "metadata": {},
   "source": [
    "## Gas update simulation\n",
    "Here, we generate a gas forecast using the gas models, and integrate that into mechafil"
   ]
  },
  {
   "cell_type": "markdown",
   "id": "3d461f83-6348-4290-9393-d84ea2479be9",
   "metadata": {},
   "source": [
    "### Train Gas Forecasting Model"
   ]
  },
  {
   "cell_type": "code",
   "execution_count": 8,
   "id": "36d4d880-1bde-4351-a5c3-749700dafc8d",
   "metadata": {},
   "outputs": [],
   "source": [
    "# download training data\n",
    "training_start_date = date(2021, 3, 15)  # since this is TotalGas, we can use all of the data, not just after FIP45 for PSD\n",
    "training_end_date = current_date\n",
    "\n",
    "@du.cache_data(directory=cache_dir)\n",
    "def download_gasusage_data():\n",
    "    totalgas_df = gas_models.get_daily_gasusage_training_data(training_start_date, training_end_date).dropna()\n",
    "    return {'totalgas_df': totalgas_df}\n",
    "\n",
    "d = download_gasusage_data()\n",
    "globals().update(d)\n",
    "\n",
    "# first, validate the gas model by splitting historical data into train/test\n",
    "train_pct = 0.7\n",
    "n_samp = len(totalgas_df)\n",
    "n_train = int(n_samp * train_pct)\n",
    "n_test = n_samp - n_train\n",
    "\n",
    "totalgas_train_df = totalgas_df.iloc[0:n_train]\n",
    "totalgas_test_df = totalgas_df.iloc[n_train:]"
   ]
  },
  {
   "cell_type": "code",
   "execution_count": 9,
   "id": "56b584fa-37d0-4fdd-83f7-ee89b14e9a58",
   "metadata": {},
   "outputs": [
    {
     "name": "stdout",
     "output_type": "stream",
     "text": [
      "Acceptance rate of Metropolis-Hastings is 0.0\n",
      "Acceptance rate of Metropolis-Hastings is 0.001025\n",
      "Acceptance rate of Metropolis-Hastings is 0.167475\n",
      "Acceptance rate of Metropolis-Hastings is 0.23505\n",
      "\n",
      "Tuning complete! Now sampling.\n",
      "Acceptance rate of Metropolis-Hastings is 0.22845\n",
      "Acceptance rate of Metropolis-Hastings is 0.3054\n",
      "Normal ARIMAX(3,0,2)                                                                                      \n",
      "======================================================= ==================================================\n",
      "Dependent Variable: total_gas_used                      Method: Metropolis Hastings                       \n",
      "Start Date: 4                                           Unnormalized Log Posterior: 2969.5772             \n",
      "End Date: 644                                           AIC: -5905.154302667028                           \n",
      "Number of observations: 641                             BIC: -5829.282801899377                           \n",
      "==========================================================================================================\n",
      "Latent Variable                          Median             Mean               95% Credibility Interval \n",
      "======================================== ================== ================== =========================\n",
      "AR(1)                                    0.0305             0.0283             (0.0059 | 0.0494)        \n",
      "AR(2)                                    -0.3803            -0.3805            (-0.394 | -0.3666)       \n",
      "AR(3)                                    0.5212             0.522              (0.5051 | 0.5458)        \n",
      "MA(1)                                    0.6726             0.6745             (0.6558 | 0.6987)        \n",
      "MA(2)                                    0.7994             0.7985             (0.774 | 0.8202)         \n",
      "Beta 1                                   0.0561             0.0564             (0.0367 | 0.0744)        \n",
      "Beta day_onboarded_rb_power_pib          0.0352             0.036              (0.0308 | 0.0413)        \n",
      "Beta day_onboarded_qa_power_pib          -0.0909            -0.0969            (-0.1318 | -0.0673)      \n",
      "Beta day_onboarded_deal_power            0.2412             0.289              (0.0674 | 0.6407)        \n",
      "Beta network_qa_rb_ratio                 -0.0362            -0.0492            (-0.2313 | 0.135)        \n",
      "Beta total_qa_power_eib                  0.1715             0.1852             (0.0786 | 0.2987)        \n",
      "Beta total_raw_power_eib                 -0.1615            -0.1772            (-0.2949 | -0.0701)      \n",
      "Beta fpr                                 0.0119             0.0118             (0.0103 | 0.013)         \n",
      "Beta rb_renewal_rate                     -0.0025            -0.0025            (-0.0026 | -0.0023)      \n",
      "Beta day_renewed_rb_power_pib            0.0096             0.0093             (0.0021 | 0.0161)        \n",
      "Beta day_renewed_qa_power_pib            -0.0124            -0.0128            (-0.0257 | -0.0015)      \n",
      "Normal Scale                             0.0023             0.0023             (0.0022 | 0.0023)        \n",
      "==========================================================================================================\n"
     ]
    }
   ],
   "source": [
    "# train the Gas model\n",
    "totalgas_arimax_model = gas_models.ArimaxGasModel('total', log_after_scaler=True)\n",
    "r = totalgas_arimax_model.train_model(totalgas_train_df)\n",
    "r.summary()"
   ]
  },
  {
   "cell_type": "markdown",
   "id": "b45edf72-58ab-46d9-abfb-16fe23e9dd50",
   "metadata": {},
   "source": [
    "### Train TotalGas <--> BaseFee model\n"
   ]
  },
  {
   "cell_type": "code",
   "execution_count": 10,
   "id": "d1e76cc2-4578-46c0-85ea-70bdf9042309",
   "metadata": {},
   "outputs": [],
   "source": [
    "# get training data\n",
    "# we don't need to restrict to the new PSD gas regime, since this is a general TotalGas <--> BaseFee model\n",
    "training_start_date = date(2021, 3, 15)\n",
    "training_end_date = current_date\n",
    "\n",
    "@du.cache_data(directory=cache_dir)\n",
    "def get_totalgas_basefee_data():\n",
    "    df_basefee = gas_models.get_basefee_spacescope(training_start_date, training_end_date)\n",
    "    df_basefee_daily = df_basefee.groupby(df_basefee['hour_date'].dt.date).mean()\n",
    "    gas_train_df = gas_models.get_daily_gasusage_training_data(training_start_date, training_end_date)\n",
    "    basefee_totalgas_df = pd.DataFrame()\n",
    "    basefee_totalgas_df['daily_base_fee'] = df_basefee_daily['unit_base_fee'].values\n",
    "    basefee_totalgas_df['total_gas_used'] = gas_train_df['total_gas_used'].values\n",
    "    return {'basefee_totalgas_df': basefee_totalgas_df}\n",
    "\n",
    "d = get_totalgas_basefee_data()\n",
    "globals().update(d)\n",
    "\n",
    "# remove test data to align TotalGas model and the copula model, for model validation\n",
    "basefee_totalgas_train_df = basefee_totalgas_df.iloc[0:-n_test]\n",
    "basefee_totalgas_test_df = basefee_totalgas_df.iloc[-n_test:]"
   ]
  },
  {
   "cell_type": "code",
   "execution_count": 11,
   "id": "0209c3e3-e13e-4dd4-8838-cc9b77d0b840",
   "metadata": {},
   "outputs": [
    {
     "data": {
      "text/plain": [
       "<seaborn.axisgrid.PairGrid at 0x1838c7100>"
      ]
     },
     "execution_count": 11,
     "metadata": {},
     "output_type": "execute_result"
    },
    {
     "data": {
      "image/png": "[encoded data removed]",
      "text/plain": [
       "<Figure size 500x500 with 6 Axes>"
      ]
     },
     "metadata": {},
     "output_type": "display_data"
    }
   ],
   "source": [
    "sns.pairplot(basefee_totalgas_train_df, kind='kde')"
   ]
  },
  {
   "cell_type": "code",
   "execution_count": null,
   "id": "851a43d8-cbe0-479b-8b75-74564a66cbba",
   "metadata": {},
   "outputs": [],
   "source": [
    "# train model\n",
    "copula_model = gas_models.BivariateCopulaModel(basefee_totalgas_train_df.values)\n",
    "copula_model.fit()"
   ]
  },
  {
   "cell_type": "code",
   "execution_count": null,
   "id": "8fa232eb-75d4-47df-88f2-1d25343be84d",
   "metadata": {},
   "outputs": [],
   "source": [
    "# plot some conditional distribution functions to inspect what the copula has learned\n",
    "fig, ax = plt.subplots(nrows=1, ncols=2, figsize=(8,3))\n",
    "\n",
    "gasused_vec = np.asarray([10000, 35000, 40000, 45000, 50000, 55000, 60000])*1e9\n",
    "for g in gasused_vec:\n",
    "    (marginal_var, F_cdf), (marginal_var_pseudoobs, conditional_copula_cdf) = \\\n",
    "        copula_model.conditional_distribution(x=None, y=g, resolution=100)\n",
    "    \n",
    "    ax[0].plot(marginal_var, F_cdf)\n",
    "    ax[1].plot(marginal_var_pseudoobs, conditional_copula_cdf, label='TotalGas=%d' % (g//1e9,))\n",
    "\n",
    "ax[0].set_xlabel('Daily Base Fee (Avg) [nanoFIL]')\n",
    "ax[0].set_title('H(DailyBaseFee<=x|GasUsed)')\n",
    "ax[1].set_xlabel('F(Daily Base Fee (Avg) [nanoFIL])')\n",
    "ax[1].set_title('H(F(DailyBaseFee)<=u|G(GasUsed))')\n",
    "fig.legend(loc='outside right center')\n",
    "\n",
    "plt.tight_layout()\n",
    "\n",
    "## Notice that there's no data for the 10kB gas, and we get some unreasonable results"
   ]
  },
  {
   "cell_type": "code",
   "execution_count": null,
   "id": "a95d7862-3b76-415c-90ba-0d911bbffaf0",
   "metadata": {},
   "outputs": [],
   "source": [
    "def totalgas2basefee(copula_model, total_gas_vec, method='quantile', method_kwargs=None):\n",
    "    if method == 'quantile':\n",
    "        if method_kwargs is None:\n",
    "            qvec = [0.5]\n",
    "        else:\n",
    "            qvec = method_kwargs['qvec']\n",
    "        copula_samples = np.zeros_like(total_gas_vec)\n",
    "        for ii, g in enumerate(total_gas_vec):\n",
    "            # [0][1] --> access the F(0.5).  the [0] is b/c qvec is a vector, so get the value of interest.\n",
    "            copula_samples[ii] = copula_model.quantile_conditional_distribution(x=None, y=g, qvec=qvec)[0]\n",
    "    elif method == 'sampling':\n",
    "        if method_kwargs is None:\n",
    "            nsamp = 100\n",
    "        else:\n",
    "            nsamp = method_kwargs['nsamp']\n",
    "        copula_samples = np.zeros((nsamp, len(total_gas_vec)))\n",
    "        for ii, g in enumerate(total_gas_vec):\n",
    "            samps_vec = copula_model.sample_conditional_distribution(x=None, y=g, resolution=100, nsamps=nsamp)\n",
    "            copula_samples[:,ii] = samps_vec\n",
    "    else:\n",
    "        raise ValueError('Invalid method specified!')\n",
    "\n",
    "    return copula_samples"
   ]
  },
  {
   "cell_type": "code",
   "execution_count": null,
   "id": "ae2b55bd-a0d2-4b36-9566-3b005e720e4a",
   "metadata": {},
   "outputs": [],
   "source": [
    "# create forecasts\n",
    "num_mc = 500\n",
    "ypred_totalgas = totalgas_arimax_model.forecast(totalgas_test_df, num_mc)\n",
    "\n",
    "# for each median value of ypred_totalgas, compute basefee.\n",
    "# for now, we compute num_mc samples, and then we can compute bounds on that\n",
    "median_totalgas = np.median(ypred_totalgas,axis=0)\n",
    "\n",
    "basefee_samples = np.zeros((num_mc, len(median_totalgas)))\n",
    "for ii in tqdm(range(num_mc)):\n",
    "    gas_mc_vec = ypred_totalgas[ii,:]\n",
    "    copula_median_estimate_basefee = totalgas2basefee(copula_model, gas_mc_vec, method='quantile', method_kwargs = {'qvec': [0.5]})\n",
    "    basefee_samples[ii,:] = copula_median_estimate_basefee\n",
    "\n",
    "# compute forecasted protocol revenue\n",
    "protocol_revenue_mc = np.zeros((num_mc,len(median_totalgas)))\n",
    "for ii in range(num_mc):\n",
    "    # the scales cancel out\n",
    "    gas_forecast = ypred_totalgas[ii,:]*1e-9\n",
    "    basefee_forecast = basefee_samples[ii,:]\n",
    "    protocol_revenue_forecast = gas_forecast * basefee_forecast\n",
    "    protocol_revenue_mc[ii,:] = protocol_revenue_forecast"
   ]
  },
  {
   "cell_type": "code",
   "execution_count": null,
   "id": "45f840a3-98ee-478f-97e0-430a4e39f2c3",
   "metadata": {},
   "outputs": [],
   "source": [
    "# create a forecast for model validation\n",
    "# plot\n",
    "fig, ax = plt.subplots(nrows=1, ncols=3, figsize=(11,4))\n",
    "\n",
    "scale=1e-9\n",
    "axx = ax[0]\n",
    "axx.plot(totalgas_test_df['date'], totalgas_test_df['total_gas_used']*scale, color='r', label='True')\n",
    "for ii in range(num_mc):\n",
    "    l = 'Forecast' if ii == 0 else None\n",
    "    axx.plot(totalgas_test_df['date'], ypred_totalgas[ii,:]*scale, color='b', alpha=0.005, label=l)\n",
    "axx.plot(totalgas_test_df['date'], median_totalgas*scale, color='k', label='Median')\n",
    "axx.set_title('ARIMAX-LogMM')\n",
    "axx.set_ylabel('GAS (Units of Billions)')\n",
    "axx.set_xticks(axx.get_xticks(), axx.get_xticklabels(), rotation=60, ha='right')\n",
    "\n",
    "axx = ax[1]\n",
    "axx.plot(totalgas_test_df['date'], basefee_totalgas_test_df['daily_base_fee'], color='r', label='True')\n",
    "quantiles = np.quantile(basefee_samples, axis=0, q=[0.25, 0.5, 0.75])\n",
    "axx.plot(totalgas_test_df['date'], quantiles[1,:], color='k', label='Median')\n",
    "axx.fill_between(totalgas_test_df['date'], quantiles[0,:], quantiles[2,:], color='b', alpha=0.2)\n",
    "axx.set_ylabel('BaseFee (nanoFIL)')\n",
    "axx.set_xticks(axx.get_xticks(), axx.get_xticklabels(), rotation=60, ha='right')\n",
    "axx.set_title('Copula Model: BaseFee <--> TotalGas')\n",
    "\n",
    "axx = ax[2]\n",
    "daily_burnt_fil = np.diff(offline_data['burnt_fil_vec'][-n_test-1:])\n",
    "quantiles = np.quantile(protocol_revenue_mc, axis=0, q=[0.25, 0.5, 0.75])\n",
    "axx.plot(totalgas_test_df['date'], quantiles[1,:], color='k', label='Median')\n",
    "axx.fill_between(totalgas_test_df['date'], quantiles[0,:], quantiles[2,:], color='b', alpha=0.2, label='Forecast')\n",
    "axx.plot(totalgas_test_df['date'], daily_burnt_fil, color='r', label='True')\n",
    "axx.set_title('Protocol Revenue')\n",
    "axx.set_ylabel('FIL')\n",
    "axx.set_xticks(axx.get_xticks(), axx.get_xticklabels(), rotation=60, ha='right')\n",
    "axx.legend(loc='upper right')\n",
    "\n",
    "plt.tight_layout()"
   ]
  },
  {
   "cell_type": "markdown",
   "id": "518d4b2f-e203-4ab4-a369-50bc91a8d8fb",
   "metadata": {},
   "source": [
    "## Retrain models w/ full data"
   ]
  },
  {
   "cell_type": "markdown",
   "id": "ab9183c2-4994-43f5-abde-9b5d48d5e9f7",
   "metadata": {},
   "source": [
    "### Retrain Gas Forecasting Model"
   ]
  },
  {
   "cell_type": "code",
   "execution_count": null,
   "id": "55898e2d-47c6-4781-90dc-610100ea0831",
   "metadata": {},
   "outputs": [],
   "source": [
    "totalgas_arimax_model = gas_models.ArimaxGasModel('total', log_after_scaler=True)\n",
    "r = totalgas_arimax_model.train_model(totalgas_df)\n",
    "r.summary()"
   ]
  },
  {
   "cell_type": "markdown",
   "id": "f66291b7-5c13-4977-a018-86c341ff3019",
   "metadata": {},
   "source": [
    "### Retrain Copula Model"
   ]
  },
  {
   "cell_type": "markdown",
   "id": "ea10b38e-8ae3-41ee-bd7b-cccdd6690577",
   "metadata": {},
   "source": [
    "#### Generate synthetic data for low-total-gas regimes to augment copula training dataset"
   ]
  },
  {
   "cell_type": "code",
   "execution_count": null,
   "id": "0f806f83-6c32-46b2-ae4d-a46e1399cfe9",
   "metadata": {},
   "outputs": [],
   "source": [
    "# get block level data from Lily\n",
    "\n",
    "@du.cache_data(directory=cache_dir)\n",
    "def get_lily_basefee_data():\n",
    "    df_basefee_lily = gas_models.get_message_gas_economy_lily(HEIGHT=3_000_000)\n",
    "    df_basefee_lily=df_basefee_lily.sort_values(by='height')\n",
    "    df_basefee_lily=df_basefee_lily.set_index('height')\n",
    "    firstBlock=df_basefee_lily.index[0]\n",
    "    lastBlock=df_basefee_lily.index[-1]\n",
    "    return {\n",
    "        'df_basefee_lily': df_basefee_lily,\n",
    "        'firstBlock': firstBlock,\n",
    "        'lastBlock': lastBlock\n",
    "    }\n",
    "\n",
    "d = get_lily_basefee_data()\n",
    "globals().update(d)"
   ]
  },
  {
   "cell_type": "code",
   "execution_count": null,
   "id": "239bdf63-1e77-45ca-8305-799cd9d2210e",
   "metadata": {},
   "outputs": [],
   "source": [
    "# train OU model for simulating gas\n",
    "basefee_totalgas_tsmodel = gas_models.AvgBaseFeeTotalGasUsageARMAModel(df_basefee_lily)\n",
    "basefee_totalgas_tsmodel.fit()"
   ]
  },
  {
   "cell_type": "code",
   "execution_count": null,
   "id": "c637c393-6e16-4f0a-bb82-9916aea75761",
   "metadata": {},
   "outputs": [],
   "source": [
    "# sample from model at different offsets to simulate different total-gas used regimes\n",
    "\n",
    "desired_gas_vec = np.linspace(10000, 30000, 25)*1e9\n",
    "\n",
    "# simulate the data for the different total gas usage\n",
    "basefee_avg_day, totalgas_day = basefee_totalgas_tsmodel.sample_basefee_avgdaily_totalgas_sumdaily(\n",
    "    ndays_per_realization=1, \n",
    "    nsamps_per_offset=len(train_df)//len(desired_gas_vec), \n",
    "    gt_total_vec=desired_gas_vec,\n",
    "    same_basefee_within_epoch=True\n",
    ")\n",
    "\n",
    "# put this into a dataframe\n",
    "basefee_totalgas_synthetic_df = pd.DataFrame()\n",
    "basefee_totalgas_synthetic_df['daily_base_fee'] = basefee_avg_day*1e9  # convert to units of nanofil\n",
    "basefee_totalgas_synthetic_df['total_gas_used'] = totalgas_day"
   ]
  },
  {
   "cell_type": "code",
   "execution_count": null,
   "id": "479db840-c01d-4451-ac08-11f7f80638ea",
   "metadata": {},
   "outputs": [],
   "source": [
    "# create new dataset which combines synthetic and real data\n",
    "basefee_totalgas_df['type'] = 'real'\n",
    "basefee_totalgas_synthetic_df['type'] = 'synthetic'\n",
    "basefee_totalgas_full_df = pd.concat([basefee_totalgas_df, basefee_totalgas_synthetic_df], ignore_index=True)"
   ]
  },
  {
   "cell_type": "code",
   "execution_count": null,
   "id": "90f0a890-fb88-4857-aae1-9d05f568fa87",
   "metadata": {},
   "outputs": [],
   "source": [
    "sns.pairplot(basefee_totalgas_full_df, kind='kde')"
   ]
  },
  {
   "cell_type": "code",
   "execution_count": null,
   "id": "a8e907fe-d77b-4727-b6de-58b2a8767c9e",
   "metadata": {},
   "outputs": [],
   "source": [
    "# train copula model for --> TotalGas & BaseFee\n",
    "copula_model_full = gas_models.BivariateCopulaModel(basefee_totalgas_full_df[['daily_base_fee', 'total_gas_used']].values)\n",
    "copula_model_full.fit()"
   ]
  },
  {
   "cell_type": "code",
   "execution_count": null,
   "id": "95d68800-b3e0-4c40-934b-2730350bd7d0",
   "metadata": {},
   "outputs": [],
   "source": [
    "# plot some conditional distribution functions to inspect what the copula has learned\n",
    "fig, ax = plt.subplots(nrows=1, ncols=2, figsize=(8,3))\n",
    "\n",
    "gasused_vec = np.asarray([10000, 20000, 30000, 40000, 50000, 60000])*1e9\n",
    "for g in gasused_vec:\n",
    "    (marginal_var, F_cdf), (marginal_var_pseudoobs, conditional_copula_cdf) = \\\n",
    "        copula_model_full.conditional_distribution(x=None, y=g, resolution=100)\n",
    "\n",
    "    ax[0].plot(marginal_var, F_cdf)\n",
    "    ax[1].plot(marginal_var_pseudoobs, conditional_copula_cdf, label='TotalGas=%d' % (g//1e9,))\n",
    " \n",
    "    inv_results = copula_model_full.quantile_conditional_distribution(x=None, y=g, resolution=100, qvec=[0.5])\n",
    "    print(g/1e9, inv_results)\n",
    "    \n",
    "    \n",
    "ax[0].axhline(0.5, color='k', linestyle='--')\n",
    "ax[1].axhline(0.5, color='k', linestyle='--')\n",
    "ax[1].axvline(0.5, color='k', linestyle='--')\n",
    "ax[0].set_xlabel('Daily Base Fee (Avg) [nanoFIL]')\n",
    "ax[0].set_title('H(DailyBaseFee<=x|GasUsed)')\n",
    "ax[1].set_xlabel('F(Daily Base Fee (Avg) [nanoFIL])')\n",
    "ax[1].set_title('H(F(DailyBaseFee)<=u|G(GasUsed))')\n",
    "fig.legend(loc='outside right center')\n",
    "\n",
    "plt.tight_layout()"
   ]
  },
  {
   "cell_type": "code",
   "execution_count": null,
   "id": "c3389efd-539e-4b66-9e02-ebca1cc7770f",
   "metadata": {},
   "outputs": [],
   "source": [
    "# configure the macro simulation\n",
    "rbp = jnp.ones(forecast_length)*6\n",
    "rr = jnp.ones(forecast_length)*0.3\n",
    "fpr = jnp.ones(forecast_length)*0.8"
   ]
  },
  {
   "cell_type": "code",
   "execution_count": null,
   "id": "761165cd-4659-425d-8852-7c5b8a391a06",
   "metadata": {},
   "outputs": [],
   "source": [
    "# now, forecast out the power to get the information needed for forecasting gas\n",
    "rb_power_zero = offline_data[\"rb_power_zero\"]\n",
    "qa_power_zero = offline_data[\"qa_power_zero\"]\n",
    "rb_known_scheduled_expire_vec = offline_data[\"rb_known_scheduled_expire_vec\"]\n",
    "qa_known_scheduled_expire_vec = offline_data[\"qa_known_scheduled_expire_vec\"]\n",
    "\n",
    "historical_raw_power_eib = offline_data[\"historical_raw_power_eib\"]\n",
    "historical_qa_power_eib = offline_data[\"historical_qa_power_eib\"]\n",
    "historical_onboarded_rb_power_pib = offline_data[\"historical_onboarded_rb_power_pib\"]\n",
    "historical_onboarded_qa_power_pib = offline_data[\"historical_onboarded_qa_power_pib\"]\n",
    "historical_renewed_qa_power_pib = offline_data[\"historical_renewed_qa_power_pib\"]\n",
    "historical_renewed_rb_power_pib = offline_data[\"historical_renewed_rb_power_pib\"]\n",
    "\n",
    "rb_power_forecast, qa_power_forecast = power.forecast_power_stats(\n",
    "    rb_power_zero, qa_power_zero, \n",
    "    rbp, rb_known_scheduled_expire_vec, qa_known_scheduled_expire_vec,\n",
    "    rr, fpr, sector_duration, forecast_length, \n",
    "    fil_plus_m=10.0, qa_renew_relative_multiplier_vec=1.0\n",
    ")\n",
    "totalgas_forecast_df = gas_models.get_gasforecast_df(rb_power_forecast, qa_power_forecast, fpr, rr)\n",
    "totalgas_forecast_df['total_gas_used'] = 0  # will be filled in by the model"
   ]
  },
  {
   "cell_type": "code",
   "execution_count": null,
   "id": "ba2a82fc-9ac7-4943-a9e2-422e85f90502",
   "metadata": {},
   "outputs": [],
   "source": [
    "# forecast total gas usage, get the base-fee, and compute the expected protocol revenue\n",
    "num_mc = 500\n",
    "ypred_totalgas = totalgas_arimax_model.forecast(totalgas_forecast_df, num_mc)\n",
    "\n",
    "# for each median value of ypred_totalgas, compute basefee.\n",
    "# for now, we compute num_mc samples, and then we can compute bounds on that\n",
    "median_totalgas = np.median(ypred_totalgas,axis=0)\n",
    "\n",
    "## METHOD 1\n",
    "# basefee_samples = np.zeros((num_mc, len(median_totalgas)))\n",
    "# for ii in tqdm(range(num_mc)):\n",
    "#     gas_mc_vec = ypred_totalgas[ii,:]\n",
    "#     copula_median_estimate_basefee = totalgas2basefee(copula_model_full, gas_mc_vec, method='quantile', method_kwargs = {'qvec': [0.5]})\n",
    "#     basefee_samples[ii,:] = copula_median_estimate_basefee\n",
    "\n",
    "## METHOD 2\n",
    "basefee_samples = totalgas2basefee(\n",
    "    copula_model_full, \n",
    "    np.median(ypred_totalgas, axis=0), \n",
    "    method='sampling', \n",
    "    method_kwargs = {'nsamp': num_mc}\n",
    ")\n",
    "\n",
    "# compute forecasted protocol revenue\n",
    "protocol_revenue_mc = np.zeros((num_mc,len(median_totalgas)))\n",
    "for ii in range(num_mc):\n",
    "    # the scales cancel out\n",
    "    gas_forecast = ypred_totalgas[ii,:]*1e-9\n",
    "    basefee_forecast = basefee_samples[ii,:]\n",
    "    protocol_revenue_forecast = gas_forecast * basefee_forecast\n",
    "    protocol_revenue_mc[ii,:] = protocol_revenue_forecast"
   ]
  },
  {
   "cell_type": "code",
   "execution_count": null,
   "id": "e5aa4fc5-0037-4906-992a-a54844a08557",
   "metadata": {},
   "outputs": [],
   "source": [
    "t = date_utils.get_t(current_date, forecast_length=forecast_length)\n",
    "scale=1e-9\n",
    "\n",
    "# plot the forecasted quantities\n",
    "fig, ax = plt.subplots(nrows=1, ncols=3, figsize=(11,4))\n",
    "\n",
    "scale=1e-9\n",
    "axx = ax[0]\n",
    "quantiles = np.quantile(ypred_totalgas, axis=0, q=[0.25, 0.5, 0.75])\n",
    "axx.plot(t, quantiles[1,:]*scale, color='k', label='Median')\n",
    "axx.fill_between(t, quantiles[0,:]*scale, quantiles[2,:]*scale, color='b', alpha=0.2)\n",
    "\n",
    "axx.set_title('ARIMAX-LogMM')\n",
    "axx.set_ylabel('GAS (Units of Billions)')\n",
    "axx.set_xticks(axx.get_xticks(), axx.get_xticklabels(), rotation=60, ha='right')\n",
    "\n",
    "axx = ax[1]\n",
    "quantiles = np.quantile(basefee_samples, axis=0, q=[0.25, 0.5, 0.75])\n",
    "axx.plot(t, quantiles[1,:], color='k', label='Median')\n",
    "axx.fill_between(t, quantiles[0,:], quantiles[2,:], color='b', alpha=0.2)\n",
    "axx.set_ylabel('BaseFee (nanoFIL)')\n",
    "axx.set_xticks(axx.get_xticks(), axx.get_xticklabels(), rotation=60, ha='right')\n",
    "axx.set_title('Copula Model: TotalGas <--> BaseFee')\n",
    "\n",
    "axx = ax[2]\n",
    "daily_burnt_fil = np.diff(offline_data['burnt_fil_vec'][-n_test-1:])\n",
    "quantiles = np.quantile(protocol_revenue_mc, axis=0, q=[0.25, 0.5, 0.75])\n",
    "axx.plot(t, quantiles[1,:], color='k', label='Median')\n",
    "axx.fill_between(t, quantiles[0,:], quantiles[2,:], color='b', alpha=0.2, label='Q25-Q75')\n",
    "axx.set_title('Protocol Revenue')\n",
    "axx.set_ylabel('FIL')\n",
    "axx.set_xticks(axx.get_xticks(), axx.get_xticklabels(), rotation=60, ha='right')\n",
    "axx.legend(loc='upper right')\n",
    "\n",
    "plt.tight_layout()"
   ]
  },
  {
   "cell_type": "markdown",
   "id": "a860b7f3-54e1-45ad-acb4-67a7256147af",
   "metadata": {},
   "source": [
    "### Compare the two"
   ]
  },
  {
   "cell_type": "code",
   "execution_count": null,
   "id": "b800519b-c25e-4c89-b021-5d3f0e3a66d2",
   "metadata": {},
   "outputs": [],
   "source": []
  }
 ],
 "metadata": {
  "kernelspec": {
   "display_name": "Python 3 (ipykernel)",
   "language": "python",
   "name": "python3"
  },
  "language_info": {
   "codemirror_mode": {
    "name": "ipython",
    "version": 3
   },
   "file_extension": ".py",
   "mimetype": "text/x-python",
   "name": "python",
   "nbconvert_exporter": "python",
   "pygments_lexer": "ipython3",
   "version": "3.10.11"
  }
 },
 "nbformat": 4,
 "nbformat_minor": 5
}
