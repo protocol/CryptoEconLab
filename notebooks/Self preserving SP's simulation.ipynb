{
 "cells": [
  {
   "cell_type": "code",
   "execution_count": 482,
   "metadata": {},
   "outputs": [],
   "source": [
    "import numpy as np\n",
    "import matplotlib.pyplot as plt\n"
   ]
  },
  {
   "cell_type": "markdown",
   "metadata": {},
   "source": [
    "## Simulation of self preserving SP's vs FVM gas demand\n",
    "\n",
    "We design a simple simulation that probes the ability of SP's to solve the problem of gas gentrification by themselves.\n",
    "\n",
    "We have made a number of **Simplifying assumptions** just to have a first running iteration of the model, many of these can be refined as we use this to build a more sophisticated model. Here are **some** of the assumptions made:\n",
    "* Messages to be included on chain can be cleanly divided into \"SP messages\", related to onboarding and maintenance of sectors, vs \"FVM messages\" containing general new FVM uses.\n",
    "* We assume SP willingness to pay gas fees follows some simple distribution.\n",
    "* We assume FVM user's willingness to pay gas fees follows some simple distribution.\n",
    "* We assume constant levels of SP and FVM demand for gas usage.\n",
    "* We assume (falsely) there is only one SP that writes a block per epoch, this can be generalized to include tipset lottery.\n",
    "* We assume a behavioral model for how a given SP would decide whether to include only SP messages (self-preserving and bringing down base fees), or would include FVM messages as well, and we include a particular parametrization for this behavior (which can be easily modified).\n",
    "\n",
    "### Parameter and pre-defined functions\n",
    "\n",
    "We assume the value SP's assign to their messages (amount per unit of gas they are willing to pay), is drawn out of some value distribution, $1-F_{SP}(v)$. We parametrize this as some simple step-like function,\n",
    "$$F_{SP}(v)=\\frac{1}{1+e^{av-b}}-N,$$\n",
    "$$N=\\frac{1}{1+e^{ar_{\\rm min}-b}},$$\n",
    "Where the values of $a,b$ relate to SP OPEX's and demand elasticity, and $r_{\\rm min}$ is th minimum base fee. We will use parameters $a=...,$ $b=...$"
   ]
  },
  {
   "cell_type": "code",
   "execution_count": 483,
   "metadata": {},
   "outputs": [
    {
     "data": {
      "text/plain": [
       "[<matplotlib.lines.Line2D at 0x7fc54e1cf668>]"
      ]
     },
     "execution_count": 483,
     "metadata": {},
     "output_type": "execute_result"
    },
    {
     "data": {
      "image/png": "[encoded data removed]",
      "text/plain": [
       "<Figure size 432x288 with 1 Axes>"
      ]
     },
     "metadata": {
      "needs_background": "light"
     },
     "output_type": "display_data"
    }
   ],
   "source": [
    "#SP value function\n",
    "\n",
    "\n",
    "bsp=10 #in units of nanofil, models the threshold where base fee becomes too expensive for SP operations\n",
    "asp=1   # models the amount of elasticity, how many are still willing to pay if too expensive\n",
    "bmin=0\n",
    "\n",
    "\n",
    "\n",
    "\n",
    "def FF(v,a,b,bmin):\n",
    "    N=1/(1+np.exp(-(a*bmin-b)))\n",
    "    return (1/(1+np.exp(-(a*v-b))))-N\n",
    "\n",
    "\n",
    "#define inverse function\n",
    "\n",
    "def arcFF(f,a,b,bmin):\n",
    "    N=1/(1+np.exp(-(a*bmin-b)))\n",
    "    arg=(f+N)  \n",
    "    ARC=np.log(np.abs(arg/(1-arg)))\n",
    "    \n",
    "    \n",
    "    return (ARC+b)/a\n",
    "    \n",
    "    \n",
    "x=np.arange(bmin,2*bsp)\n",
    "plt.plot(x,FF(x,asp,bsp,bmin))\n",
    "\n",
    "\n"
   ]
  },
  {
   "cell_type": "markdown",
   "metadata": {},
   "source": [
    "We assume the rest of users, which we will collectively refer to as \"FVM\", assign values to their messages following the distribution $F_{FVM}(v)$. This can in principle be less elastic. We could chose to model it with a similar distribution as $F_{SP}(v)$, but with a much smaller value of $a_{FVM}=.2*a_{SP}$, which would make a much smoother step behavior."
   ]
  },
  {
   "cell_type": "code",
   "execution_count": 484,
   "metadata": {},
   "outputs": [
    {
     "data": {
      "text/plain": [
       "[<matplotlib.lines.Line2D at 0x7fc54e226e10>]"
      ]
     },
     "execution_count": 484,
     "metadata": {},
     "output_type": "execute_result"
    },
    {
     "data": {
      "image/png": "[encoded data removed]",
      "text/plain": [
       "<Figure size 432x288 with 1 Axes>"
      ]
     },
     "metadata": {
      "needs_background": "light"
     },
     "output_type": "display_data"
    }
   ],
   "source": [
    "# FVM value function\n",
    "\n",
    "\n",
    "\n",
    "\n",
    "\n",
    "## For simplicity here we will use the same distribution, but with a higher elasticity, \n",
    "#this could be generalized later to any other distribution\n",
    "\n",
    "bfvm=bsp/5 #in units of nanofil\n",
    "afvm=asp/5\n",
    "\n",
    "\n",
    "FFfvm=FF\n",
    "arcFFfvm=arcFF\n",
    "\n",
    "x=np.arange(bmin,2*bsp)\n",
    "plt.plot(x,FFfvm(x,afvm,bfvm,bmin))\n"
   ]
  },
  {
   "cell_type": "markdown",
   "metadata": {},
   "source": [
    "We assume for the simulation there will be constant levels of external demand for SP and FVM gas usage. We model this total demand as the quantities $M_{SP}$ and $M_{FVM}$, which are the total amount of gas that SP's and FVM users, respectively, would want to include in the block, regardless of base fees. If there is a given base fee, $r$, only the top paying messages would get on chain. Assuming on average blocks will be sized as the target block size, $B_T$, the relationship between base fee and demand **when both SP and FVM messages are included without discrimination** is given by,\n",
    "$$ r=F_{SP}^{-1}\\left(1-\\frac{gB_T}{M_{SP}}\\right),$$\n",
    "$$ r=F_{FVM}^{-1}\\left(1-\\frac{(1-g)B_T}{M_{FVM}}\\right),$$\n",
    "where $g$ is the proportion of the block that is occupied by SP messages. The above is a system of two equations, that takes demand levels, $M_{SP}$, $M_{FVM}$ as inputs, and produces outputs $r,\\,g$."
   ]
  },
  {
   "cell_type": "markdown",
   "metadata": {},
   "source": [
    "### Initialize simulation\n",
    "\n",
    "This simulation will run over a series of time steps (epochs), $t_0,\\dots, t_N$. \n",
    "\n",
    "We could choose different possible initializations, one simple case we consider is the \"Pi Day\" scenario, we suppose that before $t_0$, there are only SP messages. After $t_0$ FVM messages start competing with SP's for block space."
   ]
  },
  {
   "cell_type": "code",
   "execution_count": 485,
   "metadata": {},
   "outputs": [
    {
     "data": {
      "text/plain": [
       "7.697964097817204"
      ]
     },
     "execution_count": 485,
     "metadata": {},
     "output_type": "execute_result"
    }
   ],
   "source": [
    "## Initial base fee\n",
    "\n",
    "r0=arcFF(1-BT/MSP,asp,bsp,bmin)\n",
    "r0"
   ]
  },
  {
   "cell_type": "markdown",
   "metadata": {},
   "source": [
    "At time $t_1$, it will be up to SP's to decide if they maintain the formal block distribution, or if they start allowing FVM to occupy more or less of the block."
   ]
  },
  {
   "cell_type": "markdown",
   "metadata": {},
   "source": [
    "## Potential total miner tips\n",
    "\n",
    "The SP writing the block at a given epoch can opt to include FVM messages or not to include them. Including FVM messages will generally result in a higher revenue for the SP. Here we compute what is the potential maximum revenue an SP can make if they don't discriminate against general FVM messages.\n",
    "\n",
    "Suppose there is a single gas fee $r$. We define $P_{FVM}$ as the additional profit the SP would make, if they decide to include all possible FVM messages. \n",
    "\n",
    "**Simplifying assumption:** We assume that in a stable demand situation, a fraction $y$ of the total gas fee will be miner tips, and the base fee is given by $(1-y)r$.\n",
    "\n",
    "The potential FVM profit is given by:\n",
    "\n",
    "If:\n",
    "$$M_{FVM}\\left[1-F_{FVM}(r)\\right]+M_{SP}\\left[1-F_{SP}(r)\\right]<2B_T,$$\n",
    "then:\n",
    "$$P_{FVM}=yM_{FVM}\\left[1-F_{FVM}(r)\\right],$$\n",
    "\n",
    "Else IF:\n",
    "$$M_{FVM}\\left[1-F_{FVM}(r)\\right]+M_{SP}\\left[1-F_{SP}(r)\\right]>2B_T,$$\n",
    "then FVM transactions will partially revert to a first price auction mechanism, paying higher tips for inclusion, and,\n",
    "$$P_{FVM}=\\left[2B_T-M_{SP}(1-F_{SP}(r))\\right]\\cdot (r_{FVM}-(1-y)r),$$\n",
    "where,\n",
    "$$r_{FVM}=F^{-1}_{FVM}\\left(1-\\frac{2B_T-M_{SP}(1-F_{SP}(r)}{M_{FVM}}\\right)$$\n",
    "is the gas fees FVM users would be willing to pay."
   ]
  },
  {
   "cell_type": "code",
   "execution_count": 486,
   "metadata": {},
   "outputs": [],
   "source": [
    "## Calculating Potential miner tip\n",
    "\n",
    "def PP(x,MFVM,MSP,y):\n",
    "    if MFVM*(1-FFfvm(x,afvm,bfvm,bmin))+MSP*(1-FF(x,asp,bsp,bmin))<2*BT:\n",
    "        return y*MFVM*(1-FFfvm(x,afvm,bfvm,bmin))\n",
    "    else:\n",
    "        arg=1-(2*BT-MSP*(1-FF(x,asp,bsp,bmin)))/MFVM\n",
    "        rfvm=arcFFfvm(arg,afvm,bfvm,bmin)\n",
    "        return (2*BT-MSP*(1-FF(x,asp,bsp,bmin)))*(rfvm-(1-y)*x)"
   ]
  },
  {
   "cell_type": "markdown",
   "metadata": {},
   "source": [
    "### Simulating SP preferences\n",
    "\n",
    "If SP's were all fully self-preserving, they would limit the amount of gas used by non-SP messages, under-filling the block, such that base fees are lowered for SP's.\n",
    "\n",
    "We model instead SP behavior as lying on a spectrum of self-preservation. In this simple model, every SP is \"self preserving to some extent\". SP's are willing to discriminate and include only SP messages, unless there is enough potential profit to be made by including FVM messages. An SP $i$ has a given \"temptation threshold\", $q_i$, define such that:\n",
    "\n",
    "If: \n",
    "$$q_i< \\frac{1}{P_{FVM}},$$\n",
    "Then the SP will only include SP messages that are able to pay the gas fees.\n",
    "\n",
    "Else If:\n",
    "$$q_i> \\frac{1}{P_{FVM}},$$\n",
    "Then the SP will include all messages that are able to pay the gas fees, or all the messages with the highest miner tips, if there are more viable messages than the maximum block size, $2B_T$.\n",
    "\n",
    "\n",
    "\n",
    "For a given SP, their temptation threshold will be drawn from some distribution,\n",
    "$$q_i\\sim Q(q_i)$$\n",
    "\n",
    "With the shape of this distribuiton we parametrize how self-preserving SP's are in our simulation.\n"
   ]
  },
  {
   "cell_type": "markdown",
   "metadata": {},
   "source": [
    "### Evolution of base fee and block distribution\n",
    "\n",
    "Here we define the steps of our simulation:\n",
    "\n",
    "1) Initialize the base fee and block distribution at $t_0$.\n",
    "\n",
    "2) For j=1,...,N:\n",
    "\n",
    "1. Draw a temptation threshold for SP, $q_{t_j}$.\n",
    "2. Evaluate potential FVM profit, $P_{FVM}(t_j)$\n",
    "3. If $q_{t_j}<1/P_{FVM}(t_j)$, include only SP messages able to pay transaction fee.\n",
    "4. Else If $q_{t_j}>1/P_{FVM}(t_j)$, include  MIN(All messages able to pay the transaction fee, Maximum block size).\n",
    "5. Use the block size $B_{t_j}$ to plug into EIP-1559 and obtain gas fee for next epoch, $r_{t_{j+1}}$.\n",
    "\n",
    "\n",
    "In the end we will have a trajectory of transaction fees over time, From which we can tell if SP's were able to self-preserve (lowering the transaction fees) or not. \n",
    "\n"
   ]
  },
  {
   "cell_type": "code",
   "execution_count": 487,
   "metadata": {},
   "outputs": [],
   "source": [
    "#array of base fees\n",
    "\n",
    "N=200 #number of epochs\n",
    "\n",
    "r=np.zeros(N) #array of base fees\n",
    "\n",
    "\n",
    "####model SP behavior, here we'll use a half normal distribution, but could use something else\n",
    "\n",
    "from scipy.stats import halfnorm\n",
    "a=.5\n",
    "#this parameter controls how self preserving SPs are. \n",
    "#Small \"a\" means SP's are more self-preserving/require higher thresholds to be tempted\n",
    "q = halfnorm.rvs(0,a, size=N)\n",
    "\n",
    "\n",
    "\n",
    "y=.01 #percentage of gas fees that is miner tip\n",
    "\n",
    "\n",
    "\n",
    "#Set relative levels of demand (SP vs FVM)\n",
    "\n",
    "BT=1\n",
    "MSP=1.1*BT #in units of target block size\n",
    "MFVM=1.8*BT\n",
    "\n",
    "#vector of block sizes\n",
    "B=np.ones(N)\n",
    "B[0]=BT\n",
    "\n",
    "\n",
    "\n",
    "r[0]=arcFF(1-BT/MSP,asp,bsp,bmin)\n",
    "\n",
    "temp=np.zeros(N)\n",
    "tempinv=np.zeros(N)\n",
    "\n",
    "for j in range(1,N):\n",
    "    if 1/(PP(r[j-1],MFVM,MSP,y))>q[j]:  #self preserving case\n",
    "        B[j]=MSP*(1-FF(r[j-1],asp,bsp,bmin))\n",
    "    else:\n",
    "        B[j]=np.min([MFVM*(1-FF(r[j-1],afvm,bfvm,bmin))+MSP*(1-FF(r[j-1],asp,bsp,bmin)),2*BT])\n",
    "    \n",
    "    #evolve base fee with EIP-1559\n",
    "    r[j]= r[j-1]*(1+(1/8)*(B[j]-BT)/(BT))\n",
    "    \n",
    "    "
   ]
  },
  {
   "cell_type": "markdown",
   "metadata": {},
   "source": [
    "## Evolution of base fee\n",
    "\n",
    "We can evaluate whether SP's succeded in self presevation or not, by inspecting the trajectory of the base fee.\n",
    "\n",
    "If most SP's were highly self preserving (The distribution $Q(q_i)$ is very narrow concentrating only around a small vicinity of $q_i=0$, and then quickly decaying), then base fee should remain at initial value, unaffected by the new influx of FVM messages.\n",
    "\n",
    "If the distribution is made wider, such that more and more SP's are willing to include general FVM messages for potential miner tips, then fluctuations in base fee start to appear, pushing the base fee up. In the limit of a very wide distribution, the base fee quickly climbs to the equilibrium base fee given by the solution of \n",
    "$$ r=F_{SP}^{-1}\\left(1-\\frac{gB_T}{M_{SP}}\\right),$$\n",
    "$$ r=F_{FVM}^{-1}\\left(1-\\frac{(1-g)B_T}{M_{FVM}}\\right),$$\n",
    "\n",
    "\n",
    "The exact behavior of the base fee will depend on the relative levels of SP vs FVM demand, $M_{SP},M_{FVM}$, and the shape of the SP behavior distribution (here parametrized simply with a half-normal distribution with standard deviation $a$.\n",
    "\n",
    "\n",
    "## Play instructions for user of simulation:\n",
    "\n",
    "To examine different scenarios, the user of this notebook, could vary the parameters above \"MSP\", \"MFVM\", to control the relative levels of demand for block space, and $a$ to control SP tendency for self-preservation (or more generally modify the distribution to something other than a half-normal)."
   ]
  },
  {
   "cell_type": "code",
   "execution_count": 488,
   "metadata": {},
   "outputs": [
    {
     "data": {
      "text/plain": [
       "[<matplotlib.lines.Line2D at 0x7fc54e322c88>]"
      ]
     },
     "execution_count": 488,
     "metadata": {},
     "output_type": "execute_result"
    },
    {
     "data": {
      "image/png": "[encoded data removed]",
      "text/plain": [
       "<Figure size 432x288 with 1 Axes>"
      ]
     },
     "metadata": {
      "needs_background": "light"
     },
     "output_type": "display_data"
    }
   ],
   "source": [
    "##plotting base fee over time\n",
    "\n",
    "plt.plot(r)"
   ]
  },
  {
   "cell_type": "code",
   "execution_count": null,
   "metadata": {},
   "outputs": [],
   "source": []
  }
 ],
 "metadata": {
  "kernelspec": {
   "display_name": "Python 3",
   "language": "python",
   "name": "python3"
  },
  "language_info": {
   "codemirror_mode": {
    "name": "ipython",
    "version": 3
   },
   "file_extension": ".py",
   "mimetype": "text/x-python",
   "name": "python",
   "nbconvert_exporter": "python",
   "pygments_lexer": "ipython3",
   "version": "3.7.3"
  }
 },
 "nbformat": 4,
 "nbformat_minor": 2
}
